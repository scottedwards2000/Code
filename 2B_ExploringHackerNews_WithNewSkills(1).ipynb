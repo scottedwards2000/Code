{
 "cells": [
  {
   "cell_type": "markdown",
   "id": "75901ff8",
   "metadata": {},
   "source": [
    "# Exploring Hacker News\n",
    "\n",
    "*Jack Kolberg-Edelbrock, MS*\n",
    "\n",
    "## Executive Summary\n",
    "\n",
    "Using the [\"Hacker News Posts\" dataset from Kaggle](https://www.kaggle.com/hacker-news/hacker-news-posts), I identified how posting type and posting time correlate with received comments and points. \n",
    "\n",
    "First, I examined the relationship between post type and the number of comments and points received. The data show that **ask** posts receive the most comments, and **other** posts (neither **ask** nor **show**) receive the most points. I believe that the nature of **ask** and **other** posts leads to this observation. Requests for help in **ask** posts necessitates responses; the **other** category, which primarily consists of industry news and product reviews, is most likely to receive quick point-based feedback, as the content of the post is identifiable from the title.\n",
    "\n",
    "Second, I examined how posting time-of-day influences the number of comments and points received. Here, the data show that early afternoon posts receive the most comments, although there are other, smaller comment hotspots thoughout the day. The clearest trend between number of points awarded and post time-of-day is in the **other** category. With these posts, the *number of points received is nearly independent of the posting time-of-day.* I believe this also ties back to the nature of the posts, with **other** posts being more digestible during the work day, on the bus, or even in the middle of the night. Contrast this to the the content-heavy nature of **ask** or **show** posts.\n",
    "\n",
    "*Overall, the nature of the post type demonstrably correlates with the number of comments and points received. **Ask** posts receive the most comments, and **other** posts receive points independent of post time-of-day.*\n",
    "\n",
    "---\n",
    "## Introduction: \n",
    "\n",
    "### What is Hacker News?\n",
    "\n",
    "[Hacker News](https://news.ycombinator.com/) is an independent news site, similar to Reddit, operated by [Y combinator](https://www.ycombinator.com/). The website is built on a simple posting platform with an up/down voting system and comments on posts.\n",
    "\n",
    "### Who uses Hacker News?\n",
    "\n",
    "Hacker News is popular in technology and start-up circles, and is regularly visited by hundreds of thousands of users daily.\n",
    "\n",
    "### Why evaluate stories on Hacker News?\n",
    "\n",
    "By examining the differences between how often different post categories (ie Ask HN, Show HN, etc.), we can gain insight into what sort of posts would generate the most visibility (though comments or aggregate votes) for our client. We can also determine if there is an opportune time of day to post on HN to maximize visibility.\n",
    "\n",
    "### Posting categories on Hacker News\n",
    "\n",
    "Within this project, we will sort Hacker News posts into one of three categories:\n",
    "\n",
    "1. **Ask**: posts in which users are requesting aid with projects\n",
    "2. **Show**: posts in which users are showcasing their own projects\n",
    "3. **Other**: posts which fall into neither the ASK nor the SHOW categories\n",
    "\n",
    "---\n",
    "\n",
    "## Goal\n",
    "Examine how post type and post time-of-day correlate with the number of comments and points received by a post.\n",
    "\n",
    "---\n",
    "## Imports"
   ]
  },
  {
   "cell_type": "code",
   "execution_count": 1,
   "id": "cda90144",
   "metadata": {
    "tags": [
     "import"
    ]
   },
   "outputs": [],
   "source": [
    "from csv import reader\n",
    "import datetime as dt\n",
    "import numpy as np\n",
    "import pandas as pd"
   ]
  },
  {
   "cell_type": "markdown",
   "id": "b345d2c1",
   "metadata": {},
   "source": [
    "---\n",
    "\n",
    "## Data Processing\n",
    "\n",
    "### Data Source\n",
    "This project utilizes the **\"Hacker News Posts\"** dataset, which is [avaiable on Kaggle](https://www.kaggle.com/hacker-news/hacker-news-posts)."
   ]
  },
  {
   "cell_type": "code",
   "execution_count": 2,
   "id": "d8b8944e",
   "metadata": {
    "scrolled": true,
    "tags": [
     "import",
     "data_raw"
    ]
   },
   "outputs": [
    {
     "data": {
      "text/html": [
       "<div>\n",
       "<style scoped>\n",
       "    .dataframe tbody tr th:only-of-type {\n",
       "        vertical-align: middle;\n",
       "    }\n",
       "\n",
       "    .dataframe tbody tr th {\n",
       "        vertical-align: top;\n",
       "    }\n",
       "\n",
       "    .dataframe thead th {\n",
       "        text-align: right;\n",
       "    }\n",
       "</style>\n",
       "<table border=\"1\" class=\"dataframe\">\n",
       "  <thead>\n",
       "    <tr style=\"text-align: right;\">\n",
       "      <th></th>\n",
       "      <th>id</th>\n",
       "      <th>title</th>\n",
       "      <th>url</th>\n",
       "      <th>num_points</th>\n",
       "      <th>num_comments</th>\n",
       "      <th>author</th>\n",
       "      <th>created_at</th>\n",
       "    </tr>\n",
       "  </thead>\n",
       "  <tbody>\n",
       "    <tr>\n",
       "      <th>173953</th>\n",
       "      <td>11084685</td>\n",
       "      <td>Argon2 code audits  Infer</td>\n",
       "      <td>https://lolware.net/2016/02/12/argon2-code-rev...</td>\n",
       "      <td>2</td>\n",
       "      <td>0</td>\n",
       "      <td>technion</td>\n",
       "      <td>2/12/2016 1:16</td>\n",
       "    </tr>\n",
       "    <tr>\n",
       "      <th>18689</th>\n",
       "      <td>12403833</td>\n",
       "      <td>Just want to introduce my robot: Moorebot</td>\n",
       "      <td>NaN</td>\n",
       "      <td>1</td>\n",
       "      <td>0</td>\n",
       "      <td>DaisyDai</td>\n",
       "      <td>9/1/2016 8:57</td>\n",
       "    </tr>\n",
       "    <tr>\n",
       "      <th>280504</th>\n",
       "      <td>10266176</td>\n",
       "      <td>Backblaze Introducing B2 Cloud Storage</td>\n",
       "      <td>https://www.backblaze.com/b2/cloud-storage.html</td>\n",
       "      <td>4</td>\n",
       "      <td>1</td>\n",
       "      <td>philipp-spiess</td>\n",
       "      <td>9/23/2015 16:48</td>\n",
       "    </tr>\n",
       "    <tr>\n",
       "      <th>239826</th>\n",
       "      <td>10562126</td>\n",
       "      <td>ODB: C++ ORM with #pragma</td>\n",
       "      <td>http://www.codesynthesis.com/products/odb/</td>\n",
       "      <td>2</td>\n",
       "      <td>0</td>\n",
       "      <td>vmorgulis</td>\n",
       "      <td>11/13/2015 20:13</td>\n",
       "    </tr>\n",
       "    <tr>\n",
       "      <th>137873</th>\n",
       "      <td>11378604</td>\n",
       "      <td>Ask HN: Who works in (mobile) robotics on HN?</td>\n",
       "      <td>NaN</td>\n",
       "      <td>10</td>\n",
       "      <td>1</td>\n",
       "      <td>ibnroberttuta</td>\n",
       "      <td>3/29/2016 0:18</td>\n",
       "    </tr>\n",
       "  </tbody>\n",
       "</table>\n",
       "</div>"
      ],
      "text/plain": [
       "              id  ...        created_at\n",
       "173953  11084685  ...    2/12/2016 1:16\n",
       "18689   12403833  ...     9/1/2016 8:57\n",
       "280504  10266176  ...   9/23/2015 16:48\n",
       "239826  10562126  ...  11/13/2015 20:13\n",
       "137873  11378604  ...    3/29/2016 0:18\n",
       "\n",
       "[5 rows x 7 columns]"
      ]
     },
     "execution_count": 2,
     "metadata": {},
     "output_type": "execute_result"
    }
   ],
   "source": [
    "'''\n",
    "Dataset Headings:\n",
    "    [0] = *id*: the post identifier number\n",
    "    [1] = *title*: the title of the post\n",
    "    [2] = *url*: the url that the post links to, if it links to a URL\n",
    "    [3] = *num_points*: the number of points the post acquired, calculated as upvotes less downvotes\n",
    "    [4] = *num_comments*: the number of comments made on the post\n",
    "    [5] = *author*: the username of the account that submitted the post\n",
    "    [6] = *created_at*: the date and time at which the post was created\n",
    "'''\n",
    "\n",
    "# Import data from local source\n",
    "hn = pd.read_csv('./DataSets/HackerNews/HN_posts_year_to_Sep_26_2016.csv', encoding='utf8', header=0)\n",
    "hn.sample(5)"
   ]
  },
  {
   "cell_type": "markdown",
   "id": "c97c2e80",
   "metadata": {},
   "source": [
    "### Data Cleaning\n",
    "These data were cleaned by *DataQuest* in two steps.\n",
    "\n",
    "1. Remove all submissions without comments\n",
    "2. Randomly sample from remaining submissions\n",
    "\n",
    "The original data file includes more than 300,000 entries. The cleaned data-set has ~30,000 entries."
   ]
  },
  {
   "cell_type": "markdown",
   "id": "5766dbf3",
   "metadata": {
    "tags": [
     "import"
    ]
   },
   "source": [
    "### Data sorting and aggregation\n",
    "\n",
    "With the data read into our program, we start by filtering the remaining data into three buckets:\n",
    "\n",
    "1. 'Ask HN'\n",
    "2. 'Show HN'\n",
    "3. 'Other'"
   ]
  },
  {
   "cell_type": "code",
   "execution_count": 3,
   "id": "b6bbb845",
   "metadata": {
    "tags": [
     "import"
    ]
   },
   "outputs": [
    {
     "name": "stdout",
     "output_type": "stream",
     "text": [
      "The number of ASK posts is \t9139\n",
      "The number of SHOW posts is \t10158\n",
      "The number of OTHER posts is \t273822\n",
      "--------------------------------------\n",
      "The total number of posts is \t293119\n"
     ]
    }
   ],
   "source": [
    "# Generate bool vectors to identify ask and show posts\n",
    "ask_bool = hn.loc[:,'title']               \\\n",
    "                .str.lower()               \\\n",
    "                .str.startswith('ask hn')\n",
    "show_bool = hn.loc[:,'title']              \\\n",
    "                .str.lower()               \\\n",
    "                .str.startswith('show hn')\n",
    "\n",
    "# Sort initial hn list into ask, show, and other sub-lists\n",
    "ask_posts = hn.loc[ask_bool, :]\n",
    "show_posts = hn.loc[show_bool, :]\n",
    "other_posts = hn.loc[~(ask_bool | show_bool), :]\n",
    "\n",
    "# Ouput\n",
    "print('The number of ASK posts is \\t{}'.format(ask_posts.shape[0]))\n",
    "print('The number of SHOW posts is \\t{}'.format(show_posts.shape[0]))\n",
    "print('The number of OTHER posts is \\t{}'.format(other_posts.shape[0]))\n",
    "print('--------------------------------------')\n",
    "print('The total number of posts is \\t{}'.format(hn.shape[0]))"
   ]
  },
  {
   "cell_type": "markdown",
   "id": "a4db9847",
   "metadata": {
    "tags": [
     "function"
    ]
   },
   "source": [
    "---\n",
    "## Functions\n",
    "### metric_sort"
   ]
  },
  {
   "cell_type": "code",
   "execution_count": 4,
   "id": "fa446887",
   "metadata": {
    "tags": [
     "function"
    ]
   },
   "outputs": [],
   "source": [
    "'''\n",
    "This function accepts a list which follows the format of this project's imported dataset.\n",
    "It takes this list and calculates an average metric (comments or points) and returns a \n",
    "descending sorted list in the desired metric.\n",
    "\n",
    "Arguments:\n",
    "    *post_list*    = A subset of the original dataset as a Panda DataFrame\n",
    "    *dataset_name* = the name of the data subset, for use in the print-out\n",
    "    *metric_index* = the list index of the metric of index. For number of comments,\n",
    "                         this will be 4. For number of points, this will be 3.\n",
    "    *metric_name*  = the name of the metric of interest, for use in the print-out\n",
    "    *top_x_hours*  = the number of hours to include in the printout\n",
    "'''\n",
    "\n",
    "def metric_sort(post_list, dataset_name, metric_index, metric_name, top_x_hours):\n",
    "    # Convert the 'created_at' column into sortable datetime objects\n",
    "    post_hour = pd.to_datetime(post_list.loc[:,'created_at'], format='%m/%d/%Y %H:%M')\n",
    "\n",
    "    # Dictionaries for sorting posts by hour\n",
    "    hourly_metric_count = {}\n",
    "    hourly_metric_amount = {}\n",
    "        \n",
    "    # Count hourly posts by creating and measuring a hour-based bool array\n",
    "    for hr in range(24):\n",
    "        dates_bool = post_hour.dt.hour == hr\n",
    "        hourly_metric_count[hr] = sum(dates_bool)\n",
    "        hourly_metric_amount[hr] = sum(post_list.loc[dates_bool, metric_index])\n",
    "    \n",
    "    # Convert hourly libraries into pd.Series for ease of printing and calculation\n",
    "    hourly_metric_count = pd.Series(hourly_metric_count)\n",
    "    hourly_metric_amount = pd.Series(hourly_metric_amount)\n",
    "    hourly_metric_average = pd.Series.divide(hourly_metric_amount, hourly_metric_count)\n",
    "    hourly_metric_average = hourly_metric_average.sort_values(ascending = False)  \n",
    "\n",
    "    # OUTPUT\n",
    "    print(f'Top hours for {metric_name} on {dataset_name} posts')\n",
    "    print(f'---------------------------------------')\n",
    "    for hour in range(top_x_hours):\n",
    "        print(f'Hour {hourly_metric_average.index[hour]:02d}'\n",
    "              f' = {hourly_metric_average.iloc[hour]:.2f}')\n",
    "    print('\\n')\n",
    "    \n",
    "    return hourly_metric_average"
   ]
  },
  {
   "cell_type": "markdown",
   "id": "19245a45",
   "metadata": {},
   "source": [
    "### avg_metric"
   ]
  },
  {
   "cell_type": "code",
   "execution_count": 5,
   "id": "009a9ff7",
   "metadata": {},
   "outputs": [],
   "source": [
    "'''\n",
    "This function determines a post's average points or comments,\n",
    "given a data subset in the format of the imported data.\n",
    "\n",
    "Arguments:\n",
    "    *data_subset*  = A subset of the original data set as a Panda DataFrame.\n",
    "    *metric_index* = the list index of the metric of index. For number of comments,\n",
    "                         this will be 4. For number of points, this will be 3.\n",
    "    *metric_name*  = the name of the metric of interest, for use in the print-out\n",
    "\n",
    "'''\n",
    "def avg_metric(data_subset, subset_name, metric_index, metric_name):      \n",
    "    sum_metric = data_subset.iloc[:, metric_index].sum()\n",
    "    num_posts = data_subset.shape[0]\n",
    "    \n",
    "    average_metric = sum_metric/num_posts\n",
    "    \n",
    "    print(f'The average number of {metric_name}'\n",
    "          f'per post in the {subset_name}'\n",
    "          f' subset is: {average_metric:.2f}')\n",
    "#     return [sum_metric, average_metric]"
   ]
  },
  {
   "cell_type": "markdown",
   "id": "e1f96ed2",
   "metadata": {},
   "source": [
    "---\n",
    "## Data Analysis\n",
    "### What post types receive the most comments?"
   ]
  },
  {
   "cell_type": "code",
   "execution_count": 6,
   "id": "4d23261a",
   "metadata": {},
   "outputs": [
    {
     "name": "stdout",
     "output_type": "stream",
     "text": [
      "The average number of commentsper post in the ASK subset is: 10.39\n",
      "The average number of commentsper post in the SHOW subset is: 4.89\n",
      "The average number of commentsper post in the OTHER subset is: 6.46\n"
     ]
    }
   ],
   "source": [
    "avg_metric(ask_posts, \"ASK\", 4, \"comments\")\n",
    "avg_metric(show_posts, \"SHOW\", 4, \"comments\")\n",
    "avg_metric(other_posts, \"OTHER\", 4, \"comments\")"
   ]
  },
  {
   "cell_type": "markdown",
   "id": "d27860eb",
   "metadata": {},
   "source": [
    "#### Ask posts receive most comments on average\n",
    "\n",
    "\n",
    "Based on our analysis, *ask* posts receive the most comments, followed by *other* posts, then *show* posts. The exact results are in the output above. This finding appears logical, as posts seeking help are explicitly soliciting comments.\n",
    "\n",
    "---\n",
    "### What post category receives more points on average?"
   ]
  },
  {
   "cell_type": "code",
   "execution_count": 7,
   "id": "dd12f1aa",
   "metadata": {
    "scrolled": true
   },
   "outputs": [
    {
     "name": "stdout",
     "output_type": "stream",
     "text": [
      "The average number of pointsper post in the ASK subset is: 11.31\n",
      "The average number of pointsper post in the SHOW subset is: 14.84\n",
      "The average number of pointsper post in the OTHER subset is: 15.16\n"
     ]
    }
   ],
   "source": [
    "avg_metric(ask_posts, \"ASK\", 3, \"points\")\n",
    "avg_metric(show_posts, \"SHOW\", 3, \"points\")\n",
    "avg_metric(other_posts, \"OTHER\", 3, \"points\")"
   ]
  },
  {
   "cell_type": "markdown",
   "id": "378ce0e0",
   "metadata": {},
   "source": [
    "#### Posts that are neither *Ask HN* nor *Show HN* receive the most points.\n",
    "\n",
    "The data above show that non-ask, non-show HN posts receive the kmost points, followed by Show HN posts. I imagine the **other** category including posting memes, newstories, or cat photos which are easy to award points to, but neither promote discussion, ask for information, nor provide information.\n",
    "\n",
    "A brief exploration of the articles composing the other category is given below."
   ]
  },
  {
   "cell_type": "code",
   "execution_count": 8,
   "id": "186624d4",
   "metadata": {},
   "outputs": [
    {
     "name": "stdout",
     "output_type": "stream",
     "text": [
      "109        Solve a wooden puzzle with Python and Jupyter\n",
      "110                                 Dont be too inspired\n",
      "111    Marc Andreessen suddenly deletes all his tweet...\n",
      "112    Wearable tech devices have a negative effect o...\n",
      "113    Strong Growth of Entertainment and Nightlife I...\n",
      "114    A Possible Future of Software Development by  ...\n",
      "115               (Idea) A Spotify for Lifelong Learning\n",
      "116    10,000 Listings and $30M in Bookings in First ...\n",
      "117                       Carver Mead  Research Overview\n",
      "118                                             Wikilisp\n",
      "Name: title, dtype: object\n"
     ]
    }
   ],
   "source": [
    "print(other_posts.iloc[100:110,1])"
   ]
  },
  {
   "cell_type": "markdown",
   "id": "23b0f34f",
   "metadata": {},
   "source": [
    "From the post titles, I infer that the **other** category consitst of a mixture of unlabeled \"Show HN\" posts and news/technical stories that users think would be interesting for the community:\n",
    "\n",
    "**Unlabeled Show HN**\n",
    "* Solve a wooden puzzle with Python and Jupyter\n",
    "\n",
    "\n",
    "**News/Techincal Stories**\n",
    "* Dont be too inspired\n",
    "* Marc Andereesen suddenly deletes all his tweet...\n",
    "* Wearable tech devices have a negative effect o...\n",
    "* Strong Growth of Entertainment and Nightlife I...\n",
    "* 10,000 Listings and $30M in Bookings in First...\n",
    "* Carver Mead Research Overview\n",
    "* Wikilisp\n",
    "\n",
    "**Personal views/reviews**\n",
    "* A Possible Future of Software Development by...\n",
    "* (Idea) A Spotify for Lifelong Learning\n",
    "\n",
    "\n",
    "\n",
    "\n",
    "Given that news stories tend to have broader appeal than any one project, it makes sense that more users would be interested in rating the story."
   ]
  },
  {
   "cell_type": "markdown",
   "id": "be99f22d",
   "metadata": {},
   "source": [
    "### Does time-of-day affect *Ask HN* post comment number?"
   ]
  },
  {
   "cell_type": "code",
   "execution_count": 9,
   "id": "7c56df61",
   "metadata": {},
   "outputs": [
    {
     "name": "stdout",
     "output_type": "stream",
     "text": [
      "Top hours for comment(s) on ASK posts\n",
      "---------------------------------------\n",
      "Hour 15 = 28.68\n",
      "Hour 13 = 16.32\n",
      "Hour 12 = 12.38\n",
      "Hour 02 = 11.14\n",
      "Hour 10 = 10.68\n",
      "\n",
      "\n",
      "Top hours for comment(s) on SHOW posts\n",
      "---------------------------------------\n",
      "Hour 12 = 6.99\n",
      "Hour 07 = 6.68\n",
      "Hour 11 = 6.00\n",
      "Hour 08 = 5.60\n",
      "Hour 14 = 5.52\n",
      "\n",
      "\n",
      "Top hours for comment(s) on OTHER posts\n",
      "---------------------------------------\n",
      "Hour 12 = 7.59\n",
      "Hour 11 = 7.37\n",
      "Hour 02 = 7.18\n",
      "Hour 13 = 7.15\n",
      "Hour 05 = 6.79\n",
      "\n",
      "\n"
     ]
    }
   ],
   "source": [
    "comments_ask_sort = metric_sort(ask_posts, \"ASK\", 'num_comments', \"comment(s)\", 5)\n",
    "comments_show_sort = metric_sort(show_posts, \"SHOW\", 'num_comments', \"comment(s)\", 5)\n",
    "comments_other_sort = metric_sort(other_posts, \"OTHER\", 'num_comments', \"comment(s)\", 5)"
   ]
  },
  {
   "cell_type": "markdown",
   "id": "4a5d5370",
   "metadata": {},
   "source": [
    "#### Early afternoon includes several of the best times to post\n",
    "\n",
    "As shown in the code block above, if you want to maximize the number of comments you receive on your posts, it is best to post during the hours of 2pm, 12pm, 11am, 1am, or 9am Central time (time above are given in Eastern time)\n",
    "\n",
    "### Does the number of points awarded to posts vary with time-of-day?\n",
    "\n",
    "Finally, we can examine if the number of points, which I would take as a stronger proxy of user activity than number of comments, cvaries by time of day."
   ]
  },
  {
   "cell_type": "code",
   "execution_count": 10,
   "id": "6bb8010f",
   "metadata": {},
   "outputs": [
    {
     "name": "stdout",
     "output_type": "stream",
     "text": [
      "Top hours for points on ASK posts\n",
      "---------------------------------------\n",
      "Hour 15 = 21.64\n",
      "Hour 13 = 17.93\n",
      "Hour 12 = 13.58\n",
      "Hour 10 = 13.44\n",
      "Hour 17 = 12.19\n",
      "\n",
      "\n",
      "Top hours for points on SHOW posts\n",
      "---------------------------------------\n",
      "Hour 12 = 20.91\n",
      "Hour 11 = 19.26\n",
      "Hour 13 = 17.02\n",
      "Hour 19 = 16.06\n",
      "Hour 06 = 15.99\n",
      "\n",
      "\n",
      "Top hours for points on OTHER posts\n",
      "---------------------------------------\n",
      "Hour 02 = 16.71\n",
      "Hour 12 = 16.70\n",
      "Hour 11 = 16.29\n",
      "Hour 00 = 16.12\n",
      "Hour 13 = 16.02\n",
      "\n",
      "\n"
     ]
    }
   ],
   "source": [
    "sorted_ask = metric_sort(ask_posts, 'ASK', 'num_points', 'points', 5)\n",
    "sorted_show = metric_sort(show_posts, 'SHOW', 'num_points', 'points', 5)\n",
    "sorted_other = metric_sort(other_posts, 'OTHER', 'num_points', 'points', 5)"
   ]
  },
  {
   "cell_type": "markdown",
   "id": "d6b40c0c",
   "metadata": {},
   "source": [
    "#### The number of points awarded per day varies least in the \"Other\" category of post\n",
    "\n",
    "The most striking result of this analysis is that the points per post in the *other* category is almost flat across a 24 hour period. Contrast this with the ranges of the other two categories, which are **significantly** larger:"
   ]
  },
  {
   "cell_type": "code",
   "execution_count": 11,
   "id": "4cd72aa2",
   "metadata": {},
   "outputs": [
    {
     "name": "stdout",
     "output_type": "stream",
     "text": [
      "Range of average points per post:\n",
      "---------------------------------\n",
      "Ask HN:  14.01\n",
      "Show HN: 10.38\n",
      "Other:    2.93\n"
     ]
    }
   ],
   "source": [
    "range_ask = sorted_ask.max() - sorted_ask.min()\n",
    "range_show = sorted_show.max() - sorted_show.min()\n",
    "range_other = sorted_other.max() - sorted_other.min()\n",
    "\n",
    "print(f'Range of average points per post:\\n' \\\n",
    "      f'---------------------------------\\n' \\\n",
    "      f'Ask HN:  {range_ask:.2f}\\n'          \\\n",
    "      f'Show HN: {range_show:.2f}\\n'         \\\n",
    "      f'Other:    {range_other:.2f}')"
   ]
  },
  {
   "cell_type": "markdown",
   "id": "150cf308",
   "metadata": {},
   "source": [
    "---\n",
    "## Conclusion\n",
    "   In this project, we examined a dataset containing posting, commenting, and rating statistics from \"Hacker News.\" We addressed four questions:\n",
    "\n",
    "1. What post category receives most comments onaverage?\n",
    "\n",
    "Ask posts receive the most comments, followed by show posts, followed by other posts. I hypothesize that this is due to the very nature of ask posts requesting feedback.\n",
    "\n",
    "2. What post category receives most points on average?\n",
    "\n",
    "The **Ask** and **Show** posts receive fewer points than **Other** posts. A brief analysis shows that the **Other** category is composed of both news stories, opinion pieces, and unlabeled \"ask\" and \"show\" posts. I hypothesize that this observation is due to the digestiblilty of the **other** category. These posts do not require in-depth understanding of another person's work, so it is easier to give a point assignment than other are inherently easier to understand than **Ask** or **Show** posts.\n",
    "\n",
    "3. Does the number of comments on an **Ask** HN post vary with the time of day it was posted?\n",
    "\n",
    "Time-of-day does apper to correlate with the number of comments that are received per **Ask** HN post. Beyond a cluster of hours in the early afternoon Central US time, I do not see a particularly coherent pattern. Overall, the hour with the highest comment number per \"Ask HN\" post is 3pm Central US Time.\n",
    "\n",
    "4. Does the number of points awarded to posts vary with the time of day it was posted?\n",
    "\n",
    "This question revealed the surprising finding that in an average 24 hour period, the range in average in points per post versus hour was drastically lower in the **Other** category than in the **Ask** or **Show** caregories. This could reflect the broader interest that these topics have, as well as news articles being more digestible during the day than individual projects."
   ]
  }
 ],
 "metadata": {
  "kernelspec": {
   "display_name": "Python 3 (Spyder)",
   "language": "python3",
   "name": "python3"
  },
  "language_info": {
   "codemirror_mode": {
    "name": "ipython",
    "version": 3
   },
   "file_extension": ".py",
   "mimetype": "text/x-python",
   "name": "python",
   "nbconvert_exporter": "python",
   "pygments_lexer": "ipython3",
   "version": "3.8.8"
  }
 },
 "nbformat": 4,
 "nbformat_minor": 5
}
