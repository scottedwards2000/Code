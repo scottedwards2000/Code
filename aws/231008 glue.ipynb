{
 "cells": [
  {
   "cell_type": "code",
   "execution_count": 3,
   "metadata": {
    "vscode": {
     "languageId": "python"
    }
   },
   "outputs": [
    {
     "name": "stdout",
     "output_type": "stream",
     "text": [
      "Welcome to the Glue Interactive Sessions Kernel\n",
      "For more information on available magic commands, please type %help in any new cell.\n",
      "\n",
      "Please view our Getting Started page to access the most up-to-date information on the Interactive Sessions kernel: https://docs.aws.amazon.com/glue/latest/dg/interactive-sessions.html\n"
     ]
    }
   ],
   "source": [
    "#%pip list"
   ]
  },
  {
   "cell_type": "code",
   "execution_count": 23,
   "metadata": {
    "vscode": {
     "languageId": "python"
    }
   },
   "outputs": [
    {
     "name": "stdout",
     "output_type": "stream",
     "text": [
      "Defaulting to user installation because normal site-packages is not writeable\n",
      "Requirement already satisfied: awswrangler in /Library/Python/3.8/site-packages (3.4.0)\n",
      "Collecting awswrangler\n",
      "  Obtaining dependency information for awswrangler from https://files.pythonhosted.org/packages/4f/4e/39c88eafdd6b0143762636c6ea9889a6c09485d4b9a1581ac21f30b75b1a/awswrangler-3.5.1-py3-none-any.whl.metadata\n",
      "  Downloading awswrangler-3.5.1-py3-none-any.whl.metadata (23 kB)\n",
      "Requirement already satisfied: boto3<2.0.0,>=1.20.32 in /Users/renee/Library/Python/3.8/lib/python/site-packages (from awswrangler) (1.28.62)\n",
      "Requirement already satisfied: botocore<2.0.0,>=1.23.32 in /Users/renee/Library/Python/3.8/lib/python/site-packages (from awswrangler) (1.31.62)\n",
      "Requirement already satisfied: numpy<2.0,>=1.18 in /Users/renee/Library/Python/3.8/lib/python/site-packages (from awswrangler) (1.24.2)\n",
      "Requirement already satisfied: packaging<24.0,>=21.1 in /Users/renee/Library/Python/3.8/lib/python/site-packages (from awswrangler) (23.2)\n",
      "Requirement already satisfied: pandas<2.1.0,>=1.2.0 in /Users/renee/Library/Python/3.8/lib/python/site-packages (from awswrangler) (1.5.3)\n",
      "Requirement already satisfied: pyarrow>=7.0.0 in /Library/Python/3.8/site-packages (from awswrangler) (13.0.0)\n",
      "Requirement already satisfied: typing-extensions<5.0.0,>=4.4.0 in /Users/renee/Library/Python/3.8/lib/python/site-packages (from awswrangler) (4.8.0)\n",
      "Requirement already satisfied: jmespath<2.0.0,>=0.7.1 in /Users/renee/Library/Python/3.8/lib/python/site-packages (from boto3<2.0.0,>=1.20.32->awswrangler) (1.0.1)\n",
      "Requirement already satisfied: s3transfer<0.8.0,>=0.7.0 in /Users/renee/Library/Python/3.8/lib/python/site-packages (from boto3<2.0.0,>=1.20.32->awswrangler) (0.7.0)\n",
      "Requirement already satisfied: python-dateutil<3.0.0,>=2.1 in /Users/renee/Library/Python/3.8/lib/python/site-packages (from botocore<2.0.0,>=1.23.32->awswrangler) (2.8.2)\n",
      "Requirement already satisfied: urllib3<1.27,>=1.25.4 in /Users/renee/Library/Python/3.8/lib/python/site-packages (from botocore<2.0.0,>=1.23.32->awswrangler) (1.26.18)\n",
      "Requirement already satisfied: pytz>=2020.1 in /Users/renee/Library/Python/3.8/lib/python/site-packages (from pandas<2.1.0,>=1.2.0->awswrangler) (2023.3.post1)\n",
      "Requirement already satisfied: six>=1.5 in /Users/renee/Library/Python/3.8/lib/python/site-packages (from python-dateutil<3.0.0,>=2.1->botocore<2.0.0,>=1.23.32->awswrangler) (1.16.0)\n",
      "Downloading awswrangler-3.5.1-py3-none-any.whl (402 kB)\n",
      "\u001b[2K   \u001b[90m━━━━━━━━━━━━━━━━━━━━━━━━━━━━━━━━━━━━━━━━\u001b[0m \u001b[32m402.3/402.3 kB\u001b[0m \u001b[31m8.9 MB/s\u001b[0m eta \u001b[36m0:00:00\u001b[0m:00:01\u001b[0m\n",
      "\u001b[?25hInstalling collected packages: awswrangler\n",
      "Successfully installed awswrangler-3.5.1\n",
      "\n",
      "\u001b[1m[\u001b[0m\u001b[34;49mnotice\u001b[0m\u001b[1;39;49m]\u001b[0m\u001b[39;49m A new release of pip is available: \u001b[0m\u001b[31;49m23.2.1\u001b[0m\u001b[39;49m -> \u001b[0m\u001b[32;49m23.3.2\u001b[0m\n",
      "\u001b[1m[\u001b[0m\u001b[34;49mnotice\u001b[0m\u001b[1;39;49m]\u001b[0m\u001b[39;49m To update, run: \u001b[0m\u001b[32;49m/Applications/Xcode.app/Contents/Developer/usr/bin/python3 -m pip install --upgrade pip\u001b[0m\n",
      "Note: you may need to restart the kernel to use updated packages.\n"
     ]
    }
   ],
   "source": [
    "#%pip install --upgrade awswrangler"
   ]
  },
  {
   "cell_type": "code",
   "execution_count": 22,
   "metadata": {
    "vscode": {
     "languageId": "python"
    }
   },
   "outputs": [
    {
     "name": "stdout",
     "output_type": "stream",
     "text": [
      "Defaulting to user installation because normal site-packages is not writeable\n",
      "Requirement already satisfied: ray in /Library/Python/3.8/site-packages (2.6.3)\n",
      "Collecting ray\n",
      "  Obtaining dependency information for ray from https://files.pythonhosted.org/packages/1a/f4/2816085191d668f0f9cd19f1f89d26b2f9f35f29b0bf5df2023bc60c9b34/ray-2.9.1-cp38-cp38-macosx_10_15_x86_64.whl.metadata\n",
      "  Downloading ray-2.9.1-cp38-cp38-macosx_10_15_x86_64.whl.metadata (13 kB)\n",
      "Requirement already satisfied: click>=7.0 in /Users/renee/Library/Python/3.8/lib/python/site-packages (from ray) (8.1.7)\n",
      "Requirement already satisfied: filelock in /Library/Python/3.8/site-packages (from ray) (3.12.4)\n",
      "Requirement already satisfied: jsonschema in /Users/renee/Library/Python/3.8/lib/python/site-packages (from ray) (4.19.2)\n",
      "Requirement already satisfied: msgpack<2.0.0,>=1.0.0 in /Library/Python/3.8/site-packages (from ray) (1.0.7)\n",
      "Requirement already satisfied: packaging in /Users/renee/Library/Python/3.8/lib/python/site-packages (from ray) (23.2)\n",
      "Requirement already satisfied: protobuf!=3.19.5,>=3.15.3 in /Library/Python/3.8/site-packages (from ray) (4.24.4)\n",
      "Requirement already satisfied: pyyaml in /Users/renee/Library/Python/3.8/lib/python/site-packages (from ray) (6.0.1)\n",
      "Requirement already satisfied: aiosignal in /Library/Python/3.8/site-packages (from ray) (1.3.1)\n",
      "Requirement already satisfied: frozenlist in /Library/Python/3.8/site-packages (from ray) (1.4.0)\n",
      "Requirement already satisfied: requests in /Users/renee/Library/Python/3.8/lib/python/site-packages (from ray) (2.31.0)\n",
      "Requirement already satisfied: attrs>=22.2.0 in /Users/renee/Library/Python/3.8/lib/python/site-packages (from jsonschema->ray) (23.1.0)\n",
      "Requirement already satisfied: importlib-resources>=1.4.0 in /Users/renee/Library/Python/3.8/lib/python/site-packages (from jsonschema->ray) (6.1.1)\n",
      "Requirement already satisfied: jsonschema-specifications>=2023.03.6 in /Users/renee/Library/Python/3.8/lib/python/site-packages (from jsonschema->ray) (2023.7.1)\n",
      "Requirement already satisfied: pkgutil-resolve-name>=1.3.10 in /Users/renee/Library/Python/3.8/lib/python/site-packages (from jsonschema->ray) (1.3.10)\n",
      "Requirement already satisfied: referencing>=0.28.4 in /Users/renee/Library/Python/3.8/lib/python/site-packages (from jsonschema->ray) (0.30.2)\n",
      "Requirement already satisfied: rpds-py>=0.7.1 in /Users/renee/Library/Python/3.8/lib/python/site-packages (from jsonschema->ray) (0.12.0)\n",
      "Requirement already satisfied: charset-normalizer<4,>=2 in /Users/renee/Library/Python/3.8/lib/python/site-packages (from requests->ray) (3.3.2)\n",
      "Requirement already satisfied: idna<4,>=2.5 in /Users/renee/Library/Python/3.8/lib/python/site-packages (from requests->ray) (3.4)\n",
      "Requirement already satisfied: urllib3<3,>=1.21.1 in /Users/renee/Library/Python/3.8/lib/python/site-packages (from requests->ray) (1.26.18)\n",
      "Requirement already satisfied: certifi>=2017.4.17 in /Users/renee/Library/Python/3.8/lib/python/site-packages (from requests->ray) (2023.7.22)\n",
      "Requirement already satisfied: zipp>=3.1.0 in /Users/renee/Library/Python/3.8/lib/python/site-packages (from importlib-resources>=1.4.0->jsonschema->ray) (3.17.0)\n",
      "Downloading ray-2.9.1-cp38-cp38-macosx_10_15_x86_64.whl (65.7 MB)\n",
      "\u001b[2K   \u001b[90m━━━━━━━━━━━━━━━━━━━━━━━━━━━━━━━━━━━━━━━━\u001b[0m \u001b[32m65.7/65.7 MB\u001b[0m \u001b[31m7.7 MB/s\u001b[0m eta \u001b[36m0:00:00\u001b[0m:00:01\u001b[0m00:01\u001b[0m\n",
      "\u001b[?25hInstalling collected packages: ray\n",
      "\u001b[33m  WARNING: The scripts ray, rllib, serve and tune are installed in '/Users/renee/Library/Python/3.8/bin' which is not on PATH.\n",
      "  Consider adding this directory to PATH or, if you prefer to suppress this warning, use --no-warn-script-location.\u001b[0m\u001b[33m\n",
      "\u001b[0mSuccessfully installed ray-2.9.1\n",
      "\n",
      "\u001b[1m[\u001b[0m\u001b[34;49mnotice\u001b[0m\u001b[1;39;49m]\u001b[0m\u001b[39;49m A new release of pip is available: \u001b[0m\u001b[31;49m23.2.1\u001b[0m\u001b[39;49m -> \u001b[0m\u001b[32;49m23.3.2\u001b[0m\n",
      "\u001b[1m[\u001b[0m\u001b[34;49mnotice\u001b[0m\u001b[1;39;49m]\u001b[0m\u001b[39;49m To update, run: \u001b[0m\u001b[32;49m/Applications/Xcode.app/Contents/Developer/usr/bin/python3 -m pip install --upgrade pip\u001b[0m\n",
      "Note: you may need to restart the kernel to use updated packages.\n"
     ]
    }
   ],
   "source": [
    "#%pip install --upgrade ray"
   ]
  },
  {
   "cell_type": "code",
   "execution_count": 4,
   "metadata": {
    "vscode": {
     "languageId": "python"
    }
   },
   "outputs": [
    {
     "name": "stdout",
     "output_type": "stream",
     "text": [
      "Welcome to the Glue Interactive Sessions Kernel\n",
      "For more information on available magic commands, please type %help in any new cell.\n",
      "\n",
      "Please view our Getting Started page to access the most up-to-date information on the Interactive Sessions kernel: https://docs.aws.amazon.com/glue/latest/dg/interactive-sessions.html\n",
      "It looks like there is a newer version of the kernel available. The latest version is 1.0.4 and you have 1.0.0 installed.\n",
      "Please run `pip install --upgrade aws-glue-sessions` to upgrade your kernel\n",
      "Defaulting to user installation because normal site-packages is not writeable\n",
      "Requirement already satisfied: aws-glue-sessions in /Users/renee/Library/Python/3.8/lib/python/site-packages (1.0.0)\n",
      "Collecting aws-glue-sessions\n",
      "  Obtaining dependency information for aws-glue-sessions from https://files.pythonhosted.org/packages/74/ca/af8de20e61d383360036e0d87e8686805dd21c6ad9fa31741765ee3d16ff/aws_glue_sessions-1.0.4-5dd060b-py2.py3-none-any.whl.metadata\n",
      "  Downloading aws_glue_sessions-1.0.4-5dd060b-py2.py3-none-any.whl.metadata (3.2 kB)\n",
      "Requirement already satisfied: hdijupyterutils>=0.6 in /Users/renee/Library/Python/3.8/lib/python/site-packages (from aws-glue-sessions) (0.21.0)\n",
      "Requirement already satisfied: autovizwidget>=0.6 in /Users/renee/Library/Python/3.8/lib/python/site-packages (from aws-glue-sessions) (0.21.0)\n",
      "Requirement already satisfied: ipython>=4.0.2 in /Users/renee/Library/Python/3.8/lib/python/site-packages (from aws-glue-sessions) (8.12.3)\n",
      "Requirement already satisfied: nose in /Users/renee/Library/Python/3.8/lib/python/site-packages (from aws-glue-sessions) (1.3.7)\n",
      "Requirement already satisfied: requests in /Users/renee/Library/Python/3.8/lib/python/site-packages (from aws-glue-sessions) (2.31.0)\n",
      "Requirement already satisfied: ipykernel>=6.12.1 in /Users/renee/Library/Python/3.8/lib/python/site-packages (from aws-glue-sessions) (6.26.0)\n",
      "Requirement already satisfied: ipywidgets>5.0.0 in /Users/renee/Library/Python/3.8/lib/python/site-packages (from aws-glue-sessions) (8.1.1)\n",
      "Requirement already satisfied: notebook>=4.2 in /Users/renee/Library/Python/3.8/lib/python/site-packages (from aws-glue-sessions) (7.0.6)\n",
      "Requirement already satisfied: tornado>=4 in /Users/renee/Library/Python/3.8/lib/python/site-packages (from aws-glue-sessions) (6.3.3)\n",
      "Requirement already satisfied: boto3>=1.21.31 in /Users/renee/Library/Python/3.8/lib/python/site-packages (from aws-glue-sessions) (1.28.62)\n",
      "Requirement already satisfied: botocore>=1.24.24 in /Users/renee/Library/Python/3.8/lib/python/site-packages (from aws-glue-sessions) (1.31.62)\n",
      "Requirement already satisfied: Click in /Users/renee/Library/Python/3.8/lib/python/site-packages (from aws-glue-sessions) (8.1.7)\n",
      "Requirement already satisfied: importlib-metadata>=4.11.3 in /Users/renee/Library/Python/3.8/lib/python/site-packages (from aws-glue-sessions) (6.8.0)\n",
      "Requirement already satisfied: rich in /Users/renee/Library/Python/3.8/lib/python/site-packages (from aws-glue-sessions) (13.6.0)\n",
      "Requirement already satisfied: tabulate in /Users/renee/Library/Python/3.8/lib/python/site-packages (from aws-glue-sessions) (0.9.0)\n",
      "Requirement already satisfied: plotly>=3 in /Users/renee/Library/Python/3.8/lib/python/site-packages (from autovizwidget>=0.6->aws-glue-sessions) (5.17.0)\n",
      "Collecting pandas<2.0.0,>=0.20.1 (from autovizwidget>=0.6->aws-glue-sessions)\n",
      "  Downloading pandas-1.5.3-cp38-cp38-macosx_10_9_x86_64.whl (11.9 MB)\n",
      "\u001b[2K     \u001b[90m━━━━━━━━━━━━━━━━━━━━━━━━━━━━━━━━━━━━━━━━\u001b[0m \u001b[32m11.9/11.9 MB\u001b[0m \u001b[31m21.0 MB/s\u001b[0m eta \u001b[36m0:00:00\u001b[0m00:01\u001b[0m00:01\u001b[0m\n",
      "\u001b[?25hRequirement already satisfied: jmespath<2.0.0,>=0.7.1 in /Users/renee/Library/Python/3.8/lib/python/site-packages (from boto3>=1.21.31->aws-glue-sessions) (1.0.1)\n",
      "Requirement already satisfied: s3transfer<0.8.0,>=0.7.0 in /Users/renee/Library/Python/3.8/lib/python/site-packages (from boto3>=1.21.31->aws-glue-sessions) (0.7.0)\n",
      "Requirement already satisfied: python-dateutil<3.0.0,>=2.1 in /Users/renee/Library/Python/3.8/lib/python/site-packages (from botocore>=1.24.24->aws-glue-sessions) (2.8.2)\n",
      "Collecting urllib3<1.27,>=1.25.4 (from botocore>=1.24.24->aws-glue-sessions)\n",
      "  Obtaining dependency information for urllib3<1.27,>=1.25.4 from https://files.pythonhosted.org/packages/b0/53/aa91e163dcfd1e5b82d8a890ecf13314e3e149c05270cc644581f77f17fd/urllib3-1.26.18-py2.py3-none-any.whl.metadata\n",
      "  Downloading urllib3-1.26.18-py2.py3-none-any.whl.metadata (48 kB)\n",
      "\u001b[2K     \u001b[90m━━━━━━━━━━━━━━━━━━━━━━━━━━━━━━━━━━━━━━━━\u001b[0m \u001b[32m48.9/48.9 kB\u001b[0m \u001b[31m4.1 MB/s\u001b[0m eta \u001b[36m0:00:00\u001b[0m\n",
      "\u001b[?25hRequirement already satisfied: jupyter>=1 in /Users/renee/Library/Python/3.8/lib/python/site-packages (from hdijupyterutils>=0.6->aws-glue-sessions) (1.0.0)\n",
      "Requirement already satisfied: numpy>=1.16.5 in /Users/renee/Library/Python/3.8/lib/python/site-packages (from hdijupyterutils>=0.6->aws-glue-sessions) (1.24.2)\n",
      "Requirement already satisfied: zipp>=0.5 in /Users/renee/Library/Python/3.8/lib/python/site-packages (from importlib-metadata>=4.11.3->aws-glue-sessions) (3.17.0)\n",
      "Requirement already satisfied: appnope in /Users/renee/Library/Python/3.8/lib/python/site-packages (from ipykernel>=6.12.1->aws-glue-sessions) (0.1.3)\n",
      "Requirement already satisfied: comm>=0.1.1 in /Users/renee/Library/Python/3.8/lib/python/site-packages (from ipykernel>=6.12.1->aws-glue-sessions) (0.2.0)\n",
      "Requirement already satisfied: debugpy>=1.6.5 in /Users/renee/Library/Python/3.8/lib/python/site-packages (from ipykernel>=6.12.1->aws-glue-sessions) (1.8.0)\n",
      "Requirement already satisfied: jupyter-client>=6.1.12 in /Users/renee/Library/Python/3.8/lib/python/site-packages (from ipykernel>=6.12.1->aws-glue-sessions) (8.6.0)\n",
      "Requirement already satisfied: jupyter-core!=5.0.*,>=4.12 in /Users/renee/Library/Python/3.8/lib/python/site-packages (from ipykernel>=6.12.1->aws-glue-sessions) (5.5.0)\n",
      "Requirement already satisfied: matplotlib-inline>=0.1 in /Users/renee/Library/Python/3.8/lib/python/site-packages (from ipykernel>=6.12.1->aws-glue-sessions) (0.1.6)\n",
      "Requirement already satisfied: nest-asyncio in /Users/renee/Library/Python/3.8/lib/python/site-packages (from ipykernel>=6.12.1->aws-glue-sessions) (1.5.8)\n",
      "Requirement already satisfied: packaging in /Users/renee/Library/Python/3.8/lib/python/site-packages (from ipykernel>=6.12.1->aws-glue-sessions) (23.2)\n",
      "Requirement already satisfied: psutil in /Users/renee/Library/Python/3.8/lib/python/site-packages (from ipykernel>=6.12.1->aws-glue-sessions) (5.9.6)\n",
      "Requirement already satisfied: pyzmq>=20 in /Users/renee/Library/Python/3.8/lib/python/site-packages (from ipykernel>=6.12.1->aws-glue-sessions) (25.1.1)\n",
      "Requirement already satisfied: traitlets>=5.4.0 in /Users/renee/Library/Python/3.8/lib/python/site-packages (from ipykernel>=6.12.1->aws-glue-sessions) (5.13.0)\n",
      "Requirement already satisfied: backcall in /Users/renee/Library/Python/3.8/lib/python/site-packages (from ipython>=4.0.2->aws-glue-sessions) (0.2.0)\n",
      "Requirement already satisfied: decorator in /Users/renee/Library/Python/3.8/lib/python/site-packages (from ipython>=4.0.2->aws-glue-sessions) (5.1.1)\n",
      "Requirement already satisfied: jedi>=0.16 in /Users/renee/Library/Python/3.8/lib/python/site-packages (from ipython>=4.0.2->aws-glue-sessions) (0.19.1)\n",
      "Requirement already satisfied: pickleshare in /Users/renee/Library/Python/3.8/lib/python/site-packages (from ipython>=4.0.2->aws-glue-sessions) (0.7.5)\n",
      "Requirement already satisfied: prompt-toolkit!=3.0.37,<3.1.0,>=3.0.30 in /Users/renee/Library/Python/3.8/lib/python/site-packages (from ipython>=4.0.2->aws-glue-sessions) (3.0.39)\n",
      "Requirement already satisfied: pygments>=2.4.0 in /Users/renee/Library/Python/3.8/lib/python/site-packages (from ipython>=4.0.2->aws-glue-sessions) (2.16.1)\n",
      "Requirement already satisfied: stack-data in /Users/renee/Library/Python/3.8/lib/python/site-packages (from ipython>=4.0.2->aws-glue-sessions) (0.6.3)\n",
      "Requirement already satisfied: typing-extensions in /Users/renee/Library/Python/3.8/lib/python/site-packages (from ipython>=4.0.2->aws-glue-sessions) (4.8.0)\n",
      "Requirement already satisfied: pexpect>4.3 in /Users/renee/Library/Python/3.8/lib/python/site-packages (from ipython>=4.0.2->aws-glue-sessions) (4.8.0)\n",
      "Requirement already satisfied: widgetsnbextension~=4.0.9 in /Users/renee/Library/Python/3.8/lib/python/site-packages (from ipywidgets>5.0.0->aws-glue-sessions) (4.0.9)\n",
      "Requirement already satisfied: jupyterlab-widgets~=3.0.9 in /Users/renee/Library/Python/3.8/lib/python/site-packages (from ipywidgets>5.0.0->aws-glue-sessions) (3.0.9)\n",
      "Requirement already satisfied: jupyter-server<3,>=2.4.0 in /Users/renee/Library/Python/3.8/lib/python/site-packages (from notebook>=4.2->aws-glue-sessions) (2.10.0)\n",
      "Requirement already satisfied: jupyterlab-server<3,>=2.22.1 in /Users/renee/Library/Python/3.8/lib/python/site-packages (from notebook>=4.2->aws-glue-sessions) (2.25.1)\n",
      "Requirement already satisfied: jupyterlab<5,>=4.0.2 in /Users/renee/Library/Python/3.8/lib/python/site-packages (from notebook>=4.2->aws-glue-sessions) (4.0.8)\n",
      "Requirement already satisfied: notebook-shim<0.3,>=0.2 in /Users/renee/Library/Python/3.8/lib/python/site-packages (from notebook>=4.2->aws-glue-sessions) (0.2.3)\n",
      "Requirement already satisfied: charset-normalizer<4,>=2 in /Users/renee/Library/Python/3.8/lib/python/site-packages (from requests->aws-glue-sessions) (3.3.2)\n",
      "Requirement already satisfied: idna<4,>=2.5 in /Users/renee/Library/Python/3.8/lib/python/site-packages (from requests->aws-glue-sessions) (3.4)\n",
      "Requirement already satisfied: certifi>=2017.4.17 in /Users/renee/Library/Python/3.8/lib/python/site-packages (from requests->aws-glue-sessions) (2023.7.22)\n",
      "Requirement already satisfied: markdown-it-py>=2.2.0 in /Users/renee/Library/Python/3.8/lib/python/site-packages (from rich->aws-glue-sessions) (3.0.0)\n",
      "Requirement already satisfied: parso<0.9.0,>=0.8.3 in /Users/renee/Library/Python/3.8/lib/python/site-packages (from jedi>=0.16->ipython>=4.0.2->aws-glue-sessions) (0.8.3)\n",
      "Requirement already satisfied: qtconsole in /Users/renee/Library/Python/3.8/lib/python/site-packages (from jupyter>=1->hdijupyterutils>=0.6->aws-glue-sessions) (5.5.0)\n",
      "Requirement already satisfied: jupyter-console in /Users/renee/Library/Python/3.8/lib/python/site-packages (from jupyter>=1->hdijupyterutils>=0.6->aws-glue-sessions) (6.6.3)\n",
      "Requirement already satisfied: nbconvert in /Users/renee/Library/Python/3.8/lib/python/site-packages (from jupyter>=1->hdijupyterutils>=0.6->aws-glue-sessions) (7.11.0)\n",
      "Requirement already satisfied: platformdirs>=2.5 in /Users/renee/Library/Python/3.8/lib/python/site-packages (from jupyter-core!=5.0.*,>=4.12->ipykernel>=6.12.1->aws-glue-sessions) (3.11.0)\n",
      "Requirement already satisfied: anyio>=3.1.0 in /Users/renee/Library/Python/3.8/lib/python/site-packages (from jupyter-server<3,>=2.4.0->notebook>=4.2->aws-glue-sessions) (4.0.0)\n",
      "Requirement already satisfied: argon2-cffi in /Users/renee/Library/Python/3.8/lib/python/site-packages (from jupyter-server<3,>=2.4.0->notebook>=4.2->aws-glue-sessions) (23.1.0)\n",
      "Requirement already satisfied: jinja2 in /Users/renee/Library/Python/3.8/lib/python/site-packages (from jupyter-server<3,>=2.4.0->notebook>=4.2->aws-glue-sessions) (3.1.2)\n",
      "Requirement already satisfied: jupyter-events>=0.6.0 in /Users/renee/Library/Python/3.8/lib/python/site-packages (from jupyter-server<3,>=2.4.0->notebook>=4.2->aws-glue-sessions) (0.9.0)\n",
      "Requirement already satisfied: jupyter-server-terminals in /Users/renee/Library/Python/3.8/lib/python/site-packages (from jupyter-server<3,>=2.4.0->notebook>=4.2->aws-glue-sessions) (0.4.4)\n",
      "Requirement already satisfied: nbformat>=5.3.0 in /Users/renee/Library/Python/3.8/lib/python/site-packages (from jupyter-server<3,>=2.4.0->notebook>=4.2->aws-glue-sessions) (5.9.2)\n",
      "Requirement already satisfied: overrides in /Users/renee/Library/Python/3.8/lib/python/site-packages (from jupyter-server<3,>=2.4.0->notebook>=4.2->aws-glue-sessions) (7.4.0)\n",
      "Requirement already satisfied: prometheus-client in /Users/renee/Library/Python/3.8/lib/python/site-packages (from jupyter-server<3,>=2.4.0->notebook>=4.2->aws-glue-sessions) (0.18.0)\n",
      "Requirement already satisfied: send2trash>=1.8.2 in /Users/renee/Library/Python/3.8/lib/python/site-packages (from jupyter-server<3,>=2.4.0->notebook>=4.2->aws-glue-sessions) (1.8.2)\n",
      "Requirement already satisfied: terminado>=0.8.3 in /Users/renee/Library/Python/3.8/lib/python/site-packages (from jupyter-server<3,>=2.4.0->notebook>=4.2->aws-glue-sessions) (0.18.0)\n",
      "Requirement already satisfied: websocket-client in /Users/renee/Library/Python/3.8/lib/python/site-packages (from jupyter-server<3,>=2.4.0->notebook>=4.2->aws-glue-sessions) (1.6.4)\n",
      "Requirement already satisfied: async-lru>=1.0.0 in /Users/renee/Library/Python/3.8/lib/python/site-packages (from jupyterlab<5,>=4.0.2->notebook>=4.2->aws-glue-sessions) (2.0.4)\n",
      "Requirement already satisfied: importlib-resources>=1.4 in /Users/renee/Library/Python/3.8/lib/python/site-packages (from jupyterlab<5,>=4.0.2->notebook>=4.2->aws-glue-sessions) (6.1.1)\n",
      "Requirement already satisfied: jupyter-lsp>=2.0.0 in /Users/renee/Library/Python/3.8/lib/python/site-packages (from jupyterlab<5,>=4.0.2->notebook>=4.2->aws-glue-sessions) (2.2.0)\n",
      "Requirement already satisfied: tomli in /Users/renee/Library/Python/3.8/lib/python/site-packages (from jupyterlab<5,>=4.0.2->notebook>=4.2->aws-glue-sessions) (2.0.1)\n",
      "Requirement already satisfied: babel>=2.10 in /Users/renee/Library/Python/3.8/lib/python/site-packages (from jupyterlab-server<3,>=2.22.1->notebook>=4.2->aws-glue-sessions) (2.13.1)\n",
      "Requirement already satisfied: json5>=0.9.0 in /Users/renee/Library/Python/3.8/lib/python/site-packages (from jupyterlab-server<3,>=2.22.1->notebook>=4.2->aws-glue-sessions) (0.9.14)\n",
      "Requirement already satisfied: jsonschema>=4.18.0 in /Users/renee/Library/Python/3.8/lib/python/site-packages (from jupyterlab-server<3,>=2.22.1->notebook>=4.2->aws-glue-sessions) (4.19.2)\n",
      "Requirement already satisfied: mdurl~=0.1 in /Users/renee/Library/Python/3.8/lib/python/site-packages (from markdown-it-py>=2.2.0->rich->aws-glue-sessions) (0.1.2)\n",
      "Requirement already satisfied: pytz>=2020.1 in /Users/renee/Library/Python/3.8/lib/python/site-packages (from pandas<2.0.0,>=0.20.1->autovizwidget>=0.6->aws-glue-sessions) (2023.3.post1)\n",
      "Requirement already satisfied: ptyprocess>=0.5 in /Users/renee/Library/Python/3.8/lib/python/site-packages (from pexpect>4.3->ipython>=4.0.2->aws-glue-sessions) (0.7.0)\n",
      "Requirement already satisfied: tenacity>=6.2.0 in /Users/renee/Library/Python/3.8/lib/python/site-packages (from plotly>=3->autovizwidget>=0.6->aws-glue-sessions) (8.2.3)\n",
      "Requirement already satisfied: wcwidth in /Users/renee/Library/Python/3.8/lib/python/site-packages (from prompt-toolkit!=3.0.37,<3.1.0,>=3.0.30->ipython>=4.0.2->aws-glue-sessions) (0.2.9)\n",
      "Requirement already satisfied: six>=1.5 in /Users/renee/Library/Python/3.8/lib/python/site-packages (from python-dateutil<3.0.0,>=2.1->botocore>=1.24.24->aws-glue-sessions) (1.16.0)\n",
      "Requirement already satisfied: executing>=1.2.0 in /Users/renee/Library/Python/3.8/lib/python/site-packages (from stack-data->ipython>=4.0.2->aws-glue-sessions) (2.0.1)\n",
      "Requirement already satisfied: asttokens>=2.1.0 in /Users/renee/Library/Python/3.8/lib/python/site-packages (from stack-data->ipython>=4.0.2->aws-glue-sessions) (2.4.1)\n",
      "Requirement already satisfied: pure-eval in /Users/renee/Library/Python/3.8/lib/python/site-packages (from stack-data->ipython>=4.0.2->aws-glue-sessions) (0.2.2)\n",
      "Requirement already satisfied: sniffio>=1.1 in /Users/renee/Library/Python/3.8/lib/python/site-packages (from anyio>=3.1.0->jupyter-server<3,>=2.4.0->notebook>=4.2->aws-glue-sessions) (1.3.0)\n",
      "Requirement already satisfied: exceptiongroup>=1.0.2 in /Users/renee/Library/Python/3.8/lib/python/site-packages (from anyio>=3.1.0->jupyter-server<3,>=2.4.0->notebook>=4.2->aws-glue-sessions) (1.1.3)\n",
      "Requirement already satisfied: MarkupSafe>=2.0 in /Users/renee/Library/Python/3.8/lib/python/site-packages (from jinja2->jupyter-server<3,>=2.4.0->notebook>=4.2->aws-glue-sessions) (2.1.3)\n",
      "Requirement already satisfied: attrs>=22.2.0 in /Users/renee/Library/Python/3.8/lib/python/site-packages (from jsonschema>=4.18.0->jupyterlab-server<3,>=2.22.1->notebook>=4.2->aws-glue-sessions) (23.1.0)\n",
      "Requirement already satisfied: jsonschema-specifications>=2023.03.6 in /Users/renee/Library/Python/3.8/lib/python/site-packages (from jsonschema>=4.18.0->jupyterlab-server<3,>=2.22.1->notebook>=4.2->aws-glue-sessions) (2023.7.1)\n",
      "Requirement already satisfied: pkgutil-resolve-name>=1.3.10 in /Users/renee/Library/Python/3.8/lib/python/site-packages (from jsonschema>=4.18.0->jupyterlab-server<3,>=2.22.1->notebook>=4.2->aws-glue-sessions) (1.3.10)\n",
      "Requirement already satisfied: referencing>=0.28.4 in /Users/renee/Library/Python/3.8/lib/python/site-packages (from jsonschema>=4.18.0->jupyterlab-server<3,>=2.22.1->notebook>=4.2->aws-glue-sessions) (0.30.2)\n",
      "Requirement already satisfied: rpds-py>=0.7.1 in /Users/renee/Library/Python/3.8/lib/python/site-packages (from jsonschema>=4.18.0->jupyterlab-server<3,>=2.22.1->notebook>=4.2->aws-glue-sessions) (0.12.0)\n",
      "Requirement already satisfied: python-json-logger>=2.0.4 in /Users/renee/Library/Python/3.8/lib/python/site-packages (from jupyter-events>=0.6.0->jupyter-server<3,>=2.4.0->notebook>=4.2->aws-glue-sessions) (2.0.7)\n",
      "Requirement already satisfied: pyyaml>=5.3 in /Users/renee/Library/Python/3.8/lib/python/site-packages (from jupyter-events>=0.6.0->jupyter-server<3,>=2.4.0->notebook>=4.2->aws-glue-sessions) (6.0.1)\n",
      "Requirement already satisfied: rfc3339-validator in /Users/renee/Library/Python/3.8/lib/python/site-packages (from jupyter-events>=0.6.0->jupyter-server<3,>=2.4.0->notebook>=4.2->aws-glue-sessions) (0.1.4)\n",
      "Requirement already satisfied: rfc3986-validator>=0.1.1 in /Users/renee/Library/Python/3.8/lib/python/site-packages (from jupyter-events>=0.6.0->jupyter-server<3,>=2.4.0->notebook>=4.2->aws-glue-sessions) (0.1.1)\n",
      "Requirement already satisfied: beautifulsoup4 in /Users/renee/Library/Python/3.8/lib/python/site-packages (from nbconvert->jupyter>=1->hdijupyterutils>=0.6->aws-glue-sessions) (4.12.2)\n",
      "Requirement already satisfied: bleach!=5.0.0 in /Users/renee/Library/Python/3.8/lib/python/site-packages (from nbconvert->jupyter>=1->hdijupyterutils>=0.6->aws-glue-sessions) (6.1.0)\n",
      "Requirement already satisfied: defusedxml in /Users/renee/Library/Python/3.8/lib/python/site-packages (from nbconvert->jupyter>=1->hdijupyterutils>=0.6->aws-glue-sessions) (0.7.1)\n",
      "Requirement already satisfied: jupyterlab-pygments in /Users/renee/Library/Python/3.8/lib/python/site-packages (from nbconvert->jupyter>=1->hdijupyterutils>=0.6->aws-glue-sessions) (0.2.2)\n",
      "Requirement already satisfied: mistune<4,>=2.0.3 in /Users/renee/Library/Python/3.8/lib/python/site-packages (from nbconvert->jupyter>=1->hdijupyterutils>=0.6->aws-glue-sessions) (3.0.2)\n",
      "Requirement already satisfied: nbclient>=0.5.0 in /Users/renee/Library/Python/3.8/lib/python/site-packages (from nbconvert->jupyter>=1->hdijupyterutils>=0.6->aws-glue-sessions) (0.9.0)\n",
      "Requirement already satisfied: pandocfilters>=1.4.1 in /Users/renee/Library/Python/3.8/lib/python/site-packages (from nbconvert->jupyter>=1->hdijupyterutils>=0.6->aws-glue-sessions) (1.5.0)\n",
      "Requirement already satisfied: tinycss2 in /Users/renee/Library/Python/3.8/lib/python/site-packages (from nbconvert->jupyter>=1->hdijupyterutils>=0.6->aws-glue-sessions) (1.2.1)\n",
      "Requirement already satisfied: fastjsonschema in /Users/renee/Library/Python/3.8/lib/python/site-packages (from nbformat>=5.3.0->jupyter-server<3,>=2.4.0->notebook>=4.2->aws-glue-sessions) (2.18.1)\n",
      "Requirement already satisfied: argon2-cffi-bindings in /Users/renee/Library/Python/3.8/lib/python/site-packages (from argon2-cffi->jupyter-server<3,>=2.4.0->notebook>=4.2->aws-glue-sessions) (21.2.0)\n",
      "Requirement already satisfied: qtpy>=2.4.0 in /Users/renee/Library/Python/3.8/lib/python/site-packages (from qtconsole->jupyter>=1->hdijupyterutils>=0.6->aws-glue-sessions) (2.4.1)\n",
      "Requirement already satisfied: webencodings in /Users/renee/Library/Python/3.8/lib/python/site-packages (from bleach!=5.0.0->nbconvert->jupyter>=1->hdijupyterutils>=0.6->aws-glue-sessions) (0.5.1)\n",
      "Requirement already satisfied: fqdn in /Users/renee/Library/Python/3.8/lib/python/site-packages (from jsonschema>=4.18.0->jupyterlab-server<3,>=2.22.1->notebook>=4.2->aws-glue-sessions) (1.5.1)\n",
      "Requirement already satisfied: isoduration in /Users/renee/Library/Python/3.8/lib/python/site-packages (from jsonschema>=4.18.0->jupyterlab-server<3,>=2.22.1->notebook>=4.2->aws-glue-sessions) (20.11.0)\n",
      "Requirement already satisfied: jsonpointer>1.13 in /Users/renee/Library/Python/3.8/lib/python/site-packages (from jsonschema>=4.18.0->jupyterlab-server<3,>=2.22.1->notebook>=4.2->aws-glue-sessions) (2.4)\n",
      "Requirement already satisfied: uri-template in /Users/renee/Library/Python/3.8/lib/python/site-packages (from jsonschema>=4.18.0->jupyterlab-server<3,>=2.22.1->notebook>=4.2->aws-glue-sessions) (1.3.0)\n",
      "Requirement already satisfied: webcolors>=1.11 in /Users/renee/Library/Python/3.8/lib/python/site-packages (from jsonschema>=4.18.0->jupyterlab-server<3,>=2.22.1->notebook>=4.2->aws-glue-sessions) (1.13)\n",
      "Requirement already satisfied: cffi>=1.0.1 in /Users/renee/Library/Python/3.8/lib/python/site-packages (from argon2-cffi-bindings->argon2-cffi->jupyter-server<3,>=2.4.0->notebook>=4.2->aws-glue-sessions) (1.16.0)\n",
      "Requirement already satisfied: soupsieve>1.2 in /Users/renee/Library/Python/3.8/lib/python/site-packages (from beautifulsoup4->nbconvert->jupyter>=1->hdijupyterutils>=0.6->aws-glue-sessions) (2.5)\n",
      "Requirement already satisfied: pycparser in /Users/renee/Library/Python/3.8/lib/python/site-packages (from cffi>=1.0.1->argon2-cffi-bindings->argon2-cffi->jupyter-server<3,>=2.4.0->notebook>=4.2->aws-glue-sessions) (2.21)\n",
      "Requirement already satisfied: arrow>=0.15.0 in /Users/renee/Library/Python/3.8/lib/python/site-packages (from isoduration->jsonschema>=4.18.0->jupyterlab-server<3,>=2.22.1->notebook>=4.2->aws-glue-sessions) (1.3.0)\n",
      "Requirement already satisfied: types-python-dateutil>=2.8.10 in /Users/renee/Library/Python/3.8/lib/python/site-packages (from arrow>=0.15.0->isoduration->jsonschema>=4.18.0->jupyterlab-server<3,>=2.22.1->notebook>=4.2->aws-glue-sessions) (2.8.19.14)\n",
      "Downloading aws_glue_sessions-1.0.4-5dd060b-py2.py3-none-any.whl (188 kB)\n",
      "\u001b[2K   \u001b[90m━━━━━━━━━━━━━━━━━━━━━━━━━━━━━━━━━━━━━━━━\u001b[0m \u001b[32m188.6/188.6 kB\u001b[0m \u001b[31m12.5 MB/s\u001b[0m eta \u001b[36m0:00:00\u001b[0m\n",
      "\u001b[?25hDownloading urllib3-1.26.18-py2.py3-none-any.whl (143 kB)\n",
      "\u001b[2K   \u001b[90m━━━━━━━━━━━━━━━━━━━━━━━━━━━━━━━━━━━━━━━━\u001b[0m \u001b[32m143.8/143.8 kB\u001b[0m \u001b[31m7.0 MB/s\u001b[0m eta \u001b[36m0:00:00\u001b[0m\n",
      "\u001b[?25hInstalling collected packages: urllib3, pandas, aws-glue-sessions\n",
      "  Attempting uninstall: urllib3\n",
      "    Found existing installation: urllib3 2.0.7\n",
      "    Uninstalling urllib3-2.0.7:\n",
      "      Successfully uninstalled urllib3-2.0.7\n",
      "  Attempting uninstall: aws-glue-sessions\n",
      "    Found existing installation: aws-glue-sessions 1.0.0\n",
      "    Uninstalling aws-glue-sessions-1.0.0:\n",
      "      Successfully uninstalled aws-glue-sessions-1.0.0\n",
      "\u001b[33m  WARNING: The script install-glue-kernels is installed in '/Users/renee/Library/Python/3.8/bin' which is not on PATH.\n",
      "  Consider adding this directory to PATH or, if you prefer to suppress this warning, use --no-warn-script-location.\u001b[0m\u001b[33m\n",
      "\u001b[0m\u001b[31mERROR: pip's dependency resolver does not currently take into account all the packages that are installed. This behaviour is the source of the following dependency conflicts.\n",
      "modin 0.23.1 requires pandas<2.1,>=2, but you have pandas 1.5.3 which is incompatible.\u001b[0m\u001b[31m\n",
      "\u001b[0mSuccessfully installed aws-glue-sessions-1.0.4 pandas-1.5.3 urllib3-1.26.18\n",
      "\n",
      "\u001b[1m[\u001b[0m\u001b[34;49mnotice\u001b[0m\u001b[1;39;49m]\u001b[0m\u001b[39;49m A new release of pip is available: \u001b[0m\u001b[31;49m23.2.1\u001b[0m\u001b[39;49m -> \u001b[0m\u001b[32;49m23.3.2\u001b[0m\n",
      "\u001b[1m[\u001b[0m\u001b[34;49mnotice\u001b[0m\u001b[1;39;49m]\u001b[0m\u001b[39;49m To update, run: \u001b[0m\u001b[32;49m/Applications/Xcode.app/Contents/Developer/usr/bin/python3 -m pip install --upgrade pip\u001b[0m\n",
      "Note: you may need to restart the kernel to use updated packages.\n"
     ]
    }
   ],
   "source": [
    "#%pip install --upgrade aws-glue-sessions"
   ]
  },
  {
   "cell_type": "code",
   "execution_count": 5,
   "metadata": {
    "vscode": {
     "languageId": "python"
    }
   },
   "outputs": [
    {
     "name": "stdout",
     "output_type": "stream",
     "text": [
      "Current iam_role is None\n",
      "iam_role has been set to arn:aws:iam::620109146561:role/GluNotebook.\n"
     ]
    }
   ],
   "source": [
    "%iam_role arn:aws:iam::620109146561:role/GluNotebook"
   ]
  },
  {
   "cell_type": "code",
   "execution_count": 6,
   "metadata": {
    "vscode": {
     "languageId": "python"
    }
   },
   "outputs": [],
   "source": [
    "#%region us-east-1"
   ]
  },
  {
   "cell_type": "code",
   "execution_count": 8,
   "metadata": {
    "vscode": {
     "languageId": "python"
    }
   },
   "outputs": [],
   "source": [
    "%session_type glue_ray"
   ]
  },
  {
   "cell_type": "code",
   "execution_count": 10,
   "metadata": {
    "vscode": {
     "languageId": "python"
    }
   },
   "outputs": [
    {
     "name": "stdout",
     "output_type": "stream",
     "text": [
      "Additional python modules to be included:\n",
      "modin\n",
      "awswrangler==3.4.2\n",
      "tqdm\n",
      "tabulate\n"
     ]
    }
   ],
   "source": [
    "%additional_python_modules modin, awswrangler==3.4.2, tqdm, tabulate"
   ]
  },
  {
   "cell_type": "code",
   "execution_count": 11,
   "metadata": {
    "vscode": {
     "languageId": "python"
    }
   },
   "outputs": [],
   "source": [
    "#%glue_version 4.0"
   ]
  },
  {
   "cell_type": "code",
   "execution_count": 12,
   "metadata": {
    "vscode": {
     "languageId": "python"
    }
   },
   "outputs": [],
   "source": [
    "#%help"
   ]
  },
  {
   "cell_type": "code",
   "execution_count": 15,
   "metadata": {
    "vscode": {
     "languageId": "python"
    }
   },
   "outputs": [
    {
     "name": "stdout",
     "output_type": "stream",
     "text": [
      "Current idle_timeout is None minutes.\n",
      "idle_timeout has been set to 15 minutes.\n",
      "Previous number of workers: None\n",
      "Setting new number of workers to: 5\n"
     ]
    }
   ],
   "source": [
    "%idle_timeout 15\n",
    "%number_of_workers 5"
   ]
  },
  {
   "cell_type": "code",
   "execution_count": 1,
   "metadata": {
    "vscode": {
     "languageId": "python"
    }
   },
   "outputs": [
    {
     "name": "stdout",
     "output_type": "stream",
     "text": [
      "Trying to create a Glue session for the kernel.\n",
      "Session Type: glue_ray\n",
      "Worker Type: Z.2X\n",
      "Number of Workers: 5\n",
      "Session ID: 18d5b007-a909-4339-af05-dbd491bde26d\n",
      "Applying the following default arguments:\n",
      "--glue_kernel_version 1.0.4\n",
      "--enable-glue-datacatalog true\n",
      "--additional-python-modules modin,awswrangler==3.4.2,tqdm,tabulate\n",
      "Waiting for session 18d5b007-a909-4339-af05-dbd491bde26d to get into ready status...\n",
      "Session 18d5b007-a909-4339-af05-dbd491bde26d has been created.\n",
      "ssssxs\n"
     ]
    }
   ],
   "source": [
    "print('ssssxs')"
   ]
  },
  {
   "cell_type": "code",
   "execution_count": 17,
   "metadata": {
    "vscode": {
     "languageId": "python"
    }
   },
   "outputs": [
    {
     "name": "stdout",
     "output_type": "stream",
     "text": [
      "Session ID: 18d5b007-a909-4339-af05-dbd491bde26d\n",
      "Status: READY\n",
      "Role: arn:aws:iam::620109146561:role/GluNotebook\n",
      "CreatedOn: 2024-02-09 19:04:03.650000-08:00\n",
      "GlueVersion: 4.0\n",
      "Session Type: glue_ray\n",
      "Tags: {'owner': 'AIDAZAYLCVHAX7AKM3NHK'}\n",
      "Worker Type: Z.2X\n",
      "Number of Workers: 5\n",
      "Region: us-east-1\n",
      "Applying the following default arguments:\n",
      "--glue_kernel_version 1.0.4\n",
      "--enable-glue-datacatalog true\n",
      "--additional-python-modules modin,awswrangler==3.4.2,tqdm,tabulate\n",
      "Arguments Passed: ['--glue_kernel_version: 1.0.4', '--enable-glue-datacatalog: true', '--additional-python-modules: modin,awswrangler==3.4.2,tqdm,tabulate']\n"
     ]
    }
   ],
   "source": [
    "%status"
   ]
  },
  {
   "cell_type": "code",
   "execution_count": 19,
   "metadata": {
    "vscode": {
     "languageId": "python"
    }
   },
   "outputs": [
    {
     "name": "stdout",
     "output_type": "stream",
     "text": [
      "The first 1 sessions are:\n",
      "+--------------------------------------+----------+----------------------------------+\n",
      "| SessionId                            | Status   | CreatedOn                        |\n",
      "+======================================+==========+==================================+\n",
      "| 18d5b007-a909-4339-af05-dbd491bde26d | READY    | 2024-02-09 19:04:03.650000-08:00 |\n",
      "+--------------------------------------+----------+----------------------------------+\n"
     ]
    }
   ],
   "source": [
    "%list_sessions"
   ]
  },
  {
   "cell_type": "code",
   "execution_count": 2,
   "metadata": {
    "vscode": {
     "languageId": "python"
    }
   },
   "outputs": [],
   "source": [
    "import sys"
   ]
  },
  {
   "cell_type": "code",
   "execution_count": 3,
   "metadata": {
    "vscode": {
     "languageId": "python"
    }
   },
   "outputs": [
    {
     "name": "stdout",
     "output_type": "stream",
     "text": [
      "/opt/amazon/workload-runtime/Ray2.4/python3.9/bin/python3.9\n"
     ]
    }
   ],
   "source": [
    "print (sys.executable)"
   ]
  },
  {
   "cell_type": "code",
   "execution_count": 21,
   "metadata": {
    "vscode": {
     "languageId": "python"
    }
   },
   "outputs": [
    {
     "name": "stdout",
     "output_type": "stream",
     "text": [
      "Name: ray\n",
      "Version: 2.9.1\n",
      "Summary: Ray provides a simple, universal API for building distributed applications.\n",
      "Home-page: https://github.com/ray-project/ray\n",
      "Author: Ray Team\n",
      "Author-email: ray-dev@googlegroups.com\n",
      "License: Apache 2.0\n",
      "Location: /Users/renee/Library/Python/3.8/lib/python/site-packages\n",
      "Requires: aiosignal, click, filelock, frozenlist, jsonschema, msgpack, packaging, protobuf, pyyaml, requests\n",
      "Required-by: \n",
      "Note: you may need to restart the kernel to use updated packages.\n"
     ]
    }
   ],
   "source": [
    "%pip show ray #this is just the local version not the cloud one"
   ]
  },
  {
   "cell_type": "code",
   "execution_count": 4,
   "metadata": {
    "vscode": {
     "languageId": "python"
    }
   },
   "outputs": [],
   "source": [
    "import awswrangler as wr"
   ]
  },
  {
   "cell_type": "code",
   "execution_count": 5,
   "metadata": {
    "vscode": {
     "languageId": "python"
    }
   },
   "outputs": [
    {
     "name": "stdout",
     "output_type": "stream",
     "text": [
      "2.4.0\n"
     ]
    }
   ],
   "source": [
    "print(ray.__version__) #this is the cloud version - i can't change it by adding it to the imports and specifying the version b/c not allowed so had to downgrade awswrangler by specifying version"
   ]
  },
  {
   "cell_type": "code",
   "execution_count": 6,
   "metadata": {
    "vscode": {
     "languageId": "python"
    }
   },
   "outputs": [],
   "source": [
    "import modin.pandas as pd"
   ]
  },
  {
   "cell_type": "code",
   "execution_count": 22,
   "metadata": {
    "vscode": {
     "languageId": "python"
    }
   },
   "outputs": [],
   "source": [
    "# import numpy as np"
   ]
  },
  {
   "cell_type": "code",
   "execution_count": 7,
   "metadata": {
    "vscode": {
     "languageId": "python"
    }
   },
   "outputs": [],
   "source": [
    "import os, modin.config as cfg"
   ]
  },
  {
   "cell_type": "code",
   "execution_count": 23,
   "metadata": {
    "vscode": {
     "languageId": "python"
    }
   },
   "outputs": [],
   "source": [
    "#from IPython.display import display"
   ]
  },
  {
   "cell_type": "code",
   "execution_count": 8,
   "metadata": {
    "vscode": {
     "languageId": "python"
    }
   },
   "outputs": [],
   "source": [
    "rayBucket = 'glue-ray-data-620109146561-us-east-1'"
   ]
  },
  {
   "cell_type": "code",
   "execution_count": 9,
   "metadata": {
    "vscode": {
     "languageId": "python"
    }
   },
   "outputs": [],
   "source": [
    "athenaWrkgrp = 'GlueRayWorkGroup'"
   ]
  },
  {
   "cell_type": "code",
   "execution_count": 24,
   "metadata": {
    "vscode": {
     "languageId": "python"
    }
   },
   "outputs": [],
   "source": [
    "#wr.catalog.create_database(name='books', exist_ok=True)"
   ]
  },
  {
   "cell_type": "code",
   "execution_count": 10,
   "metadata": {
    "vscode": {
     "languageId": "python"
    }
   },
   "outputs": [
    {
     "name": "stdout",
     "output_type": "stream",
     "text": [
      "'Ray'\n"
     ]
    }
   ],
   "source": [
    "cfg.Engine.get()"
   ]
  },
  {
   "cell_type": "code",
   "execution_count": 11,
   "metadata": {
    "vscode": {
     "languageId": "python"
    }
   },
   "outputs": [],
   "source": [
    "import tqdm"
   ]
  },
  {
   "cell_type": "code",
   "execution_count": 12,
   "metadata": {
    "vscode": {
     "languageId": "python"
    }
   },
   "outputs": [],
   "source": [
    "pd.set_option('display.max_columns', None) "
   ]
  },
  {
   "cell_type": "code",
   "execution_count": 25,
   "metadata": {
    "vscode": {
     "languageId": "python"
    }
   },
   "outputs": [],
   "source": [
    "#pd.set_option(\"display.html.table_schema\", True)"
   ]
  },
  {
   "cell_type": "code",
   "execution_count": 13,
   "metadata": {
    "vscode": {
     "languageId": "python"
    }
   },
   "outputs": [],
   "source": [
    "from tabulate import tabulate #lets me call tabluate function directly instead of tb.tabulate() if I used \"import tabluate as tb\""
   ]
  },
  {
   "cell_type": "code",
   "execution_count": 26,
   "metadata": {
    "vscode": {
     "languageId": "python"
    }
   },
   "outputs": [
    {
     "name": "stdout",
     "output_type": "stream",
     "text": [
      "Trying to create a Glue session for the kernel.\n",
      "Session Type: glue_ray\n",
      "Worker Type: Z.2X\n",
      "Number of Workers: 5\n",
      "Session ID: 18d5b007-a909-4339-af05-dbd491bde26d\n",
      "Applying the following default arguments:\n",
      "--glue_kernel_version 1.0.4\n",
      "--enable-glue-datacatalog true\n",
      "--additional-python-modules modin,awswrangler==3.4.2,tqdm,tabulate\n"
     ]
    },
    {
     "name": "stderr",
     "output_type": "stream",
     "text": [
      "Following exception encountered while creating session: An error occurred (AlreadyExistsException) when calling the CreateSession operation: Session already created, sessionId=18d5b007-a909-4339-af05-dbd491bde26d \n",
      "\n",
      "Error message: Session already created, sessionId=18d5b007-a909-4339-af05-dbd491bde26d \n",
      "\n",
      "Traceback (most recent call last):\n",
      "  File \"/Users/renee/Library/Python/3.8/lib/python/site-packages/aws_glue_interactive_sessions_kernel/glue_kernel_utils/KernelGateway.py\", line 100, in create_session\n",
      "    response = self.glue_client.create_session(\n",
      "  File \"/Users/renee/Library/Python/3.8/lib/python/site-packages/botocore/client.py\", line 535, in _api_call\n",
      "    return self._make_api_call(operation_name, kwargs)\n",
      "  File \"/Users/renee/Library/Python/3.8/lib/python/site-packages/botocore/client.py\", line 980, in _make_api_call\n",
      "    raise error_class(parsed_response, operation_name)\n",
      "botocore.errorfactory.AlreadyExistsException: An error occurred (AlreadyExistsException) when calling the CreateSession operation: Session already created, sessionId=18d5b007-a909-4339-af05-dbd491bde26d\n",
      "Exception encountered while creating session: An error occurred (AlreadyExistsException) when calling the CreateSession operation: Session already created, sessionId=18d5b007-a909-4339-af05-dbd491bde26d \n",
      "Traceback (most recent call last):\n",
      "  File \"/Users/renee/Library/Python/3.8/lib/python/site-packages/aws_glue_interactive_sessions_kernel/glue_kernel_base/BaseKernel.py\", line 168, in do_execute\n",
      "    self.create_session()\n",
      "  File \"/Users/renee/Library/Python/3.8/lib/python/site-packages/aws_glue_interactive_sessions_kernel/glue_kernel_base/BaseKernel.py\", line 604, in create_session\n",
      "    response = self.kernel_gateway.create_session(\n",
      "  File \"/Users/renee/Library/Python/3.8/lib/python/site-packages/aws_glue_interactive_sessions_kernel/glue_kernel_utils/KernelGateway.py\", line 100, in create_session\n",
      "    response = self.glue_client.create_session(\n",
      "  File \"/Users/renee/Library/Python/3.8/lib/python/site-packages/botocore/client.py\", line 535, in _api_call\n",
      "    return self._make_api_call(operation_name, kwargs)\n",
      "  File \"/Users/renee/Library/Python/3.8/lib/python/site-packages/botocore/client.py\", line 980, in _make_api_call\n",
      "    raise error_class(parsed_response, operation_name)\n",
      "botocore.errorfactory.AlreadyExistsException: An error occurred (AlreadyExistsException) when calling the CreateSession operation: Session already created, sessionId=18d5b007-a909-4339-af05-dbd491bde26d\n"
     ]
    }
   ],
   "source": [
    "def parse_dates(x):\n",
    "    try:\n",
    "        return pd.to_datetime(x)\n",
    "    except ValueError:\n",
    "        return pd.NA#np.nan\n",
    "\n",
    "\n",
    "df = wr.s3.read_csv(\n",
    "        f's3://{rayBucket}/books.csv'\n",
    "        , on_bad_lines='skip'\n",
    "        , dtype={'bookID': str, 'isbn': str, 'isbn13': str}\n",
    "        , parse_dates=['publication_date']\n",
    "        , date_parser=parse_dates\n",
    ")"
   ]
  },
  {
   "cell_type": "code",
   "execution_count": 16,
   "metadata": {
    "vscode": {
     "languageId": "python"
    }
   },
   "outputs": [
    {
     "name": "stdout",
     "output_type": "stream",
     "text": [
      "  bookID                                              title  \\\n",
      "0      1  Harry Potter and the Half-Blood Prince (Harry ...   \n",
      "1      2  Harry Potter and the Order of the Phoenix (Har...   \n",
      "\n",
      "                      authors  average_rating        isbn         isbn13  \\\n",
      "0  J.K. Rowling/Mary GrandPré            4.57  0439785960  9780439785969   \n",
      "1  J.K. Rowling/Mary GrandPré            4.49  0439358078  9780439358071   \n",
      "\n",
      "  language_code    num_pages  ratings_count  text_reviews_count  \\\n",
      "0           eng          652        2095690               27591   \n",
      "1           eng          870        2153167               29221   \n",
      "\n",
      "  publication_date        publisher  \n",
      "0       2006-09-16  Scholastic Inc.  \n",
      "1       2004-09-01  Scholastic Inc.\n"
     ]
    }
   ],
   "source": [
    "df.iloc[0:2]"
   ]
  },
  {
   "cell_type": "code",
   "execution_count": 17,
   "metadata": {
    "vscode": {
     "languageId": "python"
    }
   },
   "outputs": [],
   "source": [
    "def tb(x):\n",
    "    print(tabulate(x, headers='keys', tablefmt='psql'))"
   ]
  },
  {
   "cell_type": "code",
   "execution_count": 18,
   "metadata": {
    "vscode": {
     "languageId": "python"
    }
   },
   "outputs": [
    {
     "name": "stdout",
     "output_type": "stream",
     "text": [
      "+----+----------+--------------------------------------------------------------+----------------------------+------------------+------------+---------------+-----------------+---------------+-----------------+----------------------+---------------------+-----------------+\n",
      "|    |   bookID | title                                                        | authors                    |   average_rating |       isbn |        isbn13 | language_code   |     num_pages |   ratings_count |   text_reviews_count | publication_date    | publisher       |\n",
      "|----+----------+--------------------------------------------------------------+----------------------------+------------------+------------+---------------+-----------------+---------------+-----------------+----------------------+---------------------+-----------------|\n",
      "|  0 |        1 | Harry Potter and the Half-Blood Prince (Harry Potter  #6)    | J.K. Rowling/Mary GrandPré |             4.57 | 0439785960 | 9780439785969 | eng             |           652 |         2095690 |                27591 | 2006-09-16 00:00:00 | Scholastic Inc. |\n",
      "|  1 |        2 | Harry Potter and the Order of the Phoenix (Harry Potter  #5) | J.K. Rowling/Mary GrandPré |             4.49 | 0439358078 | 9780439358071 | eng             |           870 |         2153167 |                29221 | 2004-09-01 00:00:00 | Scholastic Inc. |\n",
      "+----+----------+--------------------------------------------------------------+----------------------------+------------------+------------+---------------+-----------------+---------------+-----------------+----------------------+---------------------+-----------------+\n"
     ]
    }
   ],
   "source": [
    "tb(df.iloc[0:2])"
   ]
  },
  {
   "cell_type": "code",
   "execution_count": 25,
   "metadata": {
    "vscode": {
     "languageId": "python"
    }
   },
   "outputs": [],
   "source": [
    "# try:\n",
    "#     df['publication_date'] = pd.to_datetime(df['publication_date']) \n",
    "# except ValueError as e:\n",
    "#     row_idx = re.search(r'at position (\\d+)', str(e)).group(1)\n",
    "#     row_idx = int(row_idx)\n",
    "#     print(df.iloc[row_idx])"
   ]
  },
  {
   "cell_type": "markdown",
   "metadata": {},
   "source": [
    "bookID                                                            31373\n",
    "title                 In Pursuit of the Proper Sinner (Inspector Lyn...\n",
    "authors                                               Elizabeth  George\n",
    "average_rating                                                      4.1\n",
    "isbn                                                         0553575104\n",
    "isbn13                                                    9780553575101\n",
    "language_code                                                       eng\n",
    "  num_pages                                                         718\n",
    "ratings_count                                                     10608\n",
    "text_reviews_count                                                  295\n",
    "publication_date                                             11/31/2000\n",
    "publisher                                                  Bantam Books\n",
    "Name: 8177, dtype: object\n"
   ]
  },
  {
   "cell_type": "code",
   "execution_count": 19,
   "metadata": {
    "vscode": {
     "languageId": "python"
    }
   },
   "outputs": [
    {
     "name": "stdout",
     "output_type": "stream",
     "text": [
      "     bookID                                              title  \\\n",
      "8177  31373  In Pursuit of the Proper Sinner (Inspector Lyn...   \n",
      "\n",
      "                authors  average_rating        isbn         isbn13  \\\n",
      "8177  Elizabeth  George             4.1  0553575104  9780553575101   \n",
      "\n",
      "     language_code    num_pages  ratings_count  text_reviews_count  \\\n",
      "8177           eng          718          10608                 295   \n",
      "\n",
      "     publication_date     publisher  \n",
      "8177              NaT  Bantam Books\n"
     ]
    }
   ],
   "source": [
    "df[df['bookID']=='31373']"
   ]
  },
  {
   "cell_type": "code",
   "execution_count": 20,
   "metadata": {
    "vscode": {
     "languageId": "python"
    }
   },
   "outputs": [
    {
     "name": "stdout",
     "output_type": "stream",
     "text": [
      "+------+----------+---------------------------------------------------------+-------------------+------------------+------------+---------------+-----------------+---------------+-----------------+----------------------+--------------------+--------------+\n",
      "|      |   bookID | title                                                   | authors           |   average_rating |       isbn |        isbn13 | language_code   |     num_pages |   ratings_count |   text_reviews_count | publication_date   | publisher    |\n",
      "|------+----------+---------------------------------------------------------+-------------------+------------------+------------+---------------+-----------------+---------------+-----------------+----------------------+--------------------+--------------|\n",
      "| 8177 |    31373 | In Pursuit of the Proper Sinner (Inspector Lynley  #10) | Elizabeth  George |              4.1 | 0553575104 | 9780553575101 | eng             |           718 |           10608 |                  295 | NaT                | Bantam Books |\n",
      "+------+----------+---------------------------------------------------------+-------------------+------------------+------------+---------------+-----------------+---------------+-----------------+----------------------+--------------------+--------------+\n"
     ]
    }
   ],
   "source": [
    "tb(df[df['bookID']=='31373'])"
   ]
  },
  {
   "cell_type": "code",
   "execution_count": 21,
   "metadata": {
    "vscode": {
     "languageId": "python"
    }
   },
   "outputs": [
    {
     "name": "stdout",
     "output_type": "stream",
     "text": [
      "<class 'modin.pandas.dataframe.DataFrame'>\n"
     ]
    }
   ],
   "source": [
    "type(df)"
   ]
  },
  {
   "cell_type": "code",
   "execution_count": 22,
   "metadata": {
    "vscode": {
     "languageId": "python"
    }
   },
   "outputs": [
    {
     "name": "stdout",
     "output_type": "stream",
     "text": [
      "+----+----------+--------------------------------------------------------------+----------------------------+------------------+------------+---------------+-----------------+---------------+-----------------+----------------------+---------------------+-----------------+\n",
      "|    |   bookID | title                                                        | authors                    |   average_rating | isbn       |        isbn13 | language_code   |     num_pages |   ratings_count |   text_reviews_count | publication_date    | publisher       |\n",
      "|----+----------+--------------------------------------------------------------+----------------------------+------------------+------------+---------------+-----------------+---------------+-----------------+----------------------+---------------------+-----------------|\n",
      "|  0 |        1 | Harry Potter and the Half-Blood Prince (Harry Potter  #6)    | J.K. Rowling/Mary GrandPré |             4.57 | 0439785960 | 9780439785969 | eng             |           652 |         2095690 |                27591 | 2006-09-16 00:00:00 | Scholastic Inc. |\n",
      "|  1 |        2 | Harry Potter and the Order of the Phoenix (Harry Potter  #5) | J.K. Rowling/Mary GrandPré |             4.49 | 0439358078 | 9780439358071 | eng             |           870 |         2153167 |                29221 | 2004-09-01 00:00:00 | Scholastic Inc. |\n",
      "|  2 |        4 | Harry Potter and the Chamber of Secrets (Harry Potter  #2)   | J.K. Rowling               |             4.42 | 0439554896 | 9780439554893 | eng             |           352 |            6333 |                  244 | 2003-11-01 00:00:00 | Scholastic      |\n",
      "|  3 |        5 | Harry Potter and the Prisoner of Azkaban (Harry Potter  #3)  | J.K. Rowling/Mary GrandPré |             4.56 | 043965548X | 9780439655484 | eng             |           435 |         2339585 |                36325 | 2004-05-01 00:00:00 | Scholastic Inc. |\n",
      "|  4 |        8 | Harry Potter Boxed Set  Books 1-5 (Harry Potter  #1-5)       | J.K. Rowling/Mary GrandPré |             4.78 | 0439682584 | 9780439682589 | eng             |          2690 |           41428 |                  164 | 2004-09-13 00:00:00 | Scholastic      |\n",
      "+----+----------+--------------------------------------------------------------+----------------------------+------------------+------------+---------------+-----------------+---------------+-----------------+----------------------+---------------------+-----------------+\n"
     ]
    }
   ],
   "source": [
    "tb(df.head())"
   ]
  },
  {
   "cell_type": "code",
   "execution_count": 23,
   "metadata": {
    "vscode": {
     "languageId": "python"
    }
   },
   "outputs": [
    {
     "name": "stdout",
     "output_type": "stream",
     "text": [
      "<class 'modin.pandas.dataframe.DataFrame'>\n",
      "RangeIndex: 11123 entries, 0 to 11122\n",
      "Data columns (total 12 columns):\n",
      " #   Column              Non-Null Count  Dtype         \n",
      "---  ------              --------------  -----         \n",
      " 0   bookID              11123 non-null  object        \n",
      " 1   title               11123 non-null  object        \n",
      " 2   authors             11123 non-null  object        \n",
      " 3   average_rating      11123 non-null  float64       \n",
      " 4   isbn                11123 non-null  object        \n",
      " 5   isbn13              11123 non-null  object        \n",
      " 6   language_code       11123 non-null  object        \n",
      " 7     num_pages         11123 non-null  int64         \n",
      " 8   ratings_count       11123 non-null  int64         \n",
      " 9   text_reviews_count  11123 non-null  int64         \n",
      " 10  publication_date    11121 non-null  datetime64[ns]\n",
      " 11  publisher           11123 non-null  object        \n",
      "dtypes: datetime64[ns](1), float64(1), int64(3), object(7)\n",
      "memory usage: 1.0+ MB\n"
     ]
    }
   ],
   "source": [
    "df.info()"
   ]
  },
  {
   "cell_type": "code",
   "execution_count": 24,
   "metadata": {
    "vscode": {
     "languageId": "python"
    }
   },
   "outputs": [
    {
     "name": "stdout",
     "output_type": "stream",
     "text": [
      "bookID                        object\n",
      "title                         object\n",
      "authors                       object\n",
      "average_rating               float64\n",
      "isbn                          object\n",
      "isbn13                        object\n",
      "language_code                 object\n",
      "  num_pages                    int64\n",
      "ratings_count                  int64\n",
      "text_reviews_count             int64\n",
      "publication_date      datetime64[ns]\n",
      "publisher                     object\n",
      "dtype: object\n"
     ]
    }
   ],
   "source": [
    "df.dtypes"
   ]
  },
  {
   "cell_type": "code",
   "execution_count": 25,
   "metadata": {
    "vscode": {
     "languageId": "python"
    }
   },
   "outputs": [
    {
     "name": "stdout",
     "output_type": "stream",
     "text": [
      "+-------+------------------+---------------+------------------+----------------------+-------------------------------+\n",
      "|       |   average_rating |     num_pages |    ratings_count |   text_reviews_count | publication_date              |\n",
      "|-------+------------------+---------------+------------------+----------------------+-------------------------------|\n",
      "| count |     11123        |     11123     |  11123           |            11123     | 11121                         |\n",
      "| mean  |         3.93408  |       336.406 |  17942.8         |              542.048 | 2000-08-29 03:05:33.099541504 |\n",
      "| min   |         0        |         0     |      0           |                0     | 1900-01-01 00:00:00           |\n",
      "| 25%   |         3.77     |       192     |    104           |                9     | 1998-07-17 00:00:00           |\n",
      "| 50%   |         3.96     |       299     |    745           |               47     | 2003-03-01 00:00:00           |\n",
      "| 75%   |         4.14     |       416     |   5000.5         |              238     | 2005-10-01 00:00:00           |\n",
      "| max   |         5        |      6576     |      4.59767e+06 |            94265     | 2020-03-31 00:00:00           |\n",
      "| std   |         0.350485 |       241.153 | 112499           |             2576.62  | nan                           |\n",
      "+-------+------------------+---------------+------------------+----------------------+-------------------------------+\n"
     ]
    }
   ],
   "source": [
    "tb(df.describe())"
   ]
  },
  {
   "cell_type": "code",
   "execution_count": 26,
   "metadata": {
    "vscode": {
     "languageId": "python"
    }
   },
   "outputs": [
    {
     "name": "stdout",
     "output_type": "stream",
     "text": [
      "+-------+-------------------------------------------------------------+----------------------+-----------------+\n",
      "|       | title                                                       |   text_reviews_count |   ratings_count |\n",
      "|-------+-------------------------------------------------------------+----------------------+-----------------|\n",
      "| 10336 | Twilight (Twilight  #1)                                     |                94265 |         4597666 |\n",
      "|  5270 | The Book Thief                                              |                86881 |         1516367 |\n",
      "|  1069 | The Giver (The Giver  #1)                                   |                56604 |         1585589 |\n",
      "|   284 | The Alchemist                                               |                55843 |         1631221 |\n",
      "| 10700 | Water for Elephants                                         |                52759 |         1260027 |\n",
      "|  7309 | The Lightning Thief (Percy Jackson and the Olympians  #1)   |                47951 |         1766725 |\n",
      "|  5407 | Eat  Pray  Love                                             |                47620 |         1362264 |\n",
      "|  2060 | The Glass Castle                                            |                46176 |          808656 |\n",
      "|  1462 | The Catcher in the Rye                                      |                43499 |         2457092 |\n",
      "|     3 | Harry Potter and the Prisoner of Azkaban (Harry Potter  #3) |                36325 |         2339585 |\n",
      "+-------+-------------------------------------------------------------+----------------------+-----------------+\n"
     ]
    }
   ],
   "source": [
    "tb(\n",
    "    df[['title', 'text_reviews_count', 'ratings_count']]\n",
    "    .sort_values(by=['text_reviews_count'], ascending=False)\n",
    "    .iloc[0:10]\n",
    ")"
   ]
  },
  {
   "cell_type": "code",
   "execution_count": 27,
   "metadata": {
    "vscode": {
     "languageId": "python"
    }
   },
   "outputs": [],
   "source": [
    "x = df.select_dtypes(include='number').columns"
   ]
  },
  {
   "cell_type": "code",
   "execution_count": 28,
   "metadata": {
    "vscode": {
     "languageId": "python"
    }
   },
   "outputs": [
    {
     "name": "stdout",
     "output_type": "stream",
     "text": [
      "Index(['average_rating', '  num_pages', 'ratings_count', 'text_reviews_count'], dtype='object')\n"
     ]
    }
   ],
   "source": [
    "x"
   ]
  },
  {
   "cell_type": "code",
   "execution_count": 29,
   "metadata": {
    "vscode": {
     "languageId": "python"
    }
   },
   "outputs": [
    {
     "name": "stdout",
     "output_type": "stream",
     "text": [
      "<class 'pandas.core.indexes.base.Index'>\n"
     ]
    }
   ],
   "source": [
    "type(x)"
   ]
  },
  {
   "cell_type": "code",
   "execution_count": 30,
   "metadata": {
    "vscode": {
     "languageId": "python"
    }
   },
   "outputs": [],
   "source": [
    "normalizedDf=(df[x]-df[x].mean())/df[x].std()"
   ]
  },
  {
   "cell_type": "code",
   "execution_count": 31,
   "metadata": {
    "vscode": {
     "languageId": "python"
    }
   },
   "outputs": [
    {
     "name": "stdout",
     "output_type": "stream",
     "text": [
      "       average_rating    num_pages  ratings_count  text_reviews_count\n",
      "0            1.814412     1.308692      18.469003           10.497845\n",
      "1            1.586157     2.212684      18.979913           11.130456\n",
      "2            1.386434     0.064666      -0.103199           -0.115674\n",
      "3            1.785880     0.408847      20.636974           13.887557\n",
      "4            2.413581     9.759771       0.208758           -0.146723\n",
      "...               ...          ...            ...                 ...\n",
      "11118        0.359287     0.728147      -0.158107           -0.202610\n",
      "11119        0.416350     1.238197      -0.152533           -0.188638\n",
      "11120        0.073968     0.325912      -0.152204           -0.173502\n",
      "11121       -0.610797     0.404700      -0.152658           -0.156425\n",
      "11122       -0.068691    -0.267074      -0.158489           -0.205715\n",
      "\n",
      "[11123 rows x 4 columns]\n"
     ]
    }
   ],
   "source": [
    "normalizedDf"
   ]
  },
  {
   "cell_type": "code",
   "execution_count": 32,
   "metadata": {
    "vscode": {
     "languageId": "python"
    }
   },
   "outputs": [
    {
     "name": "stdout",
     "output_type": "stream",
     "text": [
      "<class 'modin.pandas.dataframe.DataFrame'>\n"
     ]
    }
   ],
   "source": [
    "type(normalizedDf)"
   ]
  },
  {
   "cell_type": "code",
   "execution_count": null,
   "metadata": {
    "vscode": {
     "languageId": "python"
    }
   },
   "outputs": [],
   "source": []
  }
 ],
 "metadata": {
  "kernelspec": {
   "display_name": "Glue PySpark",
   "language": "python",
   "name": "glue_pyspark"
  },
  "language_info": {
   "codemirror_mode": {
    "name": "python",
    "version": 3
   },
   "file_extension": ".py",
   "mimetype": "text/x-python",
   "name": "Python_Glue_Session",
   "pygments_lexer": "python3"
  }
 },
 "nbformat": 4,
 "nbformat_minor": 2
}
