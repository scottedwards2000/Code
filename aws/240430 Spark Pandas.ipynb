{
	"metadata": {
		"kernelspec": {
			"display_name": "Glue PySpark",
			"language": "python",
			"name": "glue_pyspark"
		},
		"language_info": {
			"codemirror_mode": {
				"name": "python",
				"version": 3
			},
			"file_extension": ".py",
			"mimetype": "text/x-python",
			"name": "Python_Glue_Session",
			"pygments_lexer": "python3"
		}
	},
	"nbformat_minor": 5,
	"nbformat": 4,
	"cells": [
		{
			"cell_type": "markdown",
			"source": "### This notebook shows examples of using Glue on Spark for users familiar with pandas\nTo follow this example notebook, execute the cells in order.\nThe keyboard shortcut to execute the current cell and jump to the following is: Shift+Enter.\n\nTo delete cells no longer needed (including this one), you can use the context menu or use the Escape key (to exit any cell you might be in) and then press the d key twice. You can select multiple cells using Shift + Up/Down, to delete many quickly.\n\nThis example assumes the configured role has permission to read/write on the default catalog database and the s3 glue temporary folder, otherwise update the code or the permissions accordingly.",
			"metadata": {},
			"id": "8cb16da0"
		},
		{
			"cell_type": "markdown",
			"source": "####  Running the following cell will set up and start your interactive session.",
			"metadata": {},
			"id": "dc7cacd1"
		},
		{
			"cell_type": "code",
			"source": "%idle_timeout 120\n%glue_version 4.0\n%worker_type G.1X\n%number_of_workers 2\n\nimport boto3\nimport sys\nfrom awsglue.dynamicframe import DynamicFrame\nfrom awsglue.transforms import *\nfrom awsglue.utils import getResolvedOptions\nfrom pyspark.context import SparkContext\nfrom pyspark.sql.functions import *\nfrom awsglue.context import GlueContext\nfrom awsglue.job import Job\n  \nsc = SparkContext.getOrCreate()\nglueContext = GlueContext(sc)\nspark = glueContext.spark_session\njob = Job(glueContext)",
			"metadata": {
				"trusted": true,
				"tags": []
			},
			"execution_count": 1,
			"outputs": [
				{
					"name": "stdout",
					"text": "Welcome to the Glue Interactive Sessions Kernel\nFor more information on available magic commands, please type %help in any new cell.\n\nPlease view our Getting Started page to access the most up-to-date information on the Interactive Sessions kernel: https://docs.aws.amazon.com/glue/latest/dg/interactive-sessions.html\nInstalled kernel version: 1.0.4 \nCurrent idle_timeout is None minutes.\nidle_timeout has been set to 120 minutes.\nSetting Glue version to: 4.0\nPrevious worker type: None\nSetting new worker type to: G.1X\nPrevious number of workers: None\nSetting new number of workers to: 2\nTrying to create a Glue session for the kernel.\nSession Type: glueetl\nWorker Type: G.1X\nNumber of Workers: 2\nSession ID: ace4407e-ea50-412f-8b40-95089b0a4317\nApplying the following default arguments:\n--glue_kernel_version 1.0.4\n--enable-glue-datacatalog true\nWaiting for session ace4407e-ea50-412f-8b40-95089b0a4317 to get into ready status...\nSession ace4407e-ea50-412f-8b40-95089b0a4317 has been created.\n\n",
					"output_type": "stream"
				}
			],
			"id": "a3fea417"
		},
		{
			"cell_type": "code",
			"source": "# Optimize the data movement from pandas to Spark DataFrame and back\nspark.conf.set(\"spark.sql.execution.arrow.pyspark.enabled\", \"true\")\n\n# You can define a distributed Spark DataFrame, to read the data in a distributed way and be able to process large data\n# Here it takes a bit of time because we ask it to infer schema, in practice could just let it set everything as string\n# and handle the schema manually\nsdf = spark.read.csv(\"s3://tempscottedwards2000/books.csv\", \n                     header=True, inferSchema=True)",
			"metadata": {
				"trusted": true,
				"tags": []
			},
			"execution_count": 2,
			"outputs": [
				{
					"name": "stdout",
					"text": "\n",
					"output_type": "stream"
				}
			],
			"id": "7a4db5b0"
		},
		{
			"cell_type": "code",
			"source": "# The schema inference considered the dollar amounts as string due to the $ symbol\n# Also in the csv there are some header with extra spaces, we'll deal with that later\nsdf.printSchema()",
			"metadata": {
				"trusted": true,
				"tags": []
			},
			"execution_count": 3,
			"outputs": [
				{
					"name": "stdout",
					"text": "root\n |-- bookID: integer (nullable = true)\n |-- title: string (nullable = true)\n |-- authors: string (nullable = true)\n |-- average_rating: string (nullable = true)\n |-- isbn: string (nullable = true)\n |-- isbn13: string (nullable = true)\n |-- language_code: string (nullable = true)\n |--   num_pages: string (nullable = true)\n |-- ratings_count: integer (nullable = true)\n |-- text_reviews_count: integer (nullable = true)\n |-- publication_date: string (nullable = true)\n |-- publisher: string (nullable = true)\n",
					"output_type": "stream"
				}
			],
			"id": "7f867e92"
		},
		{
			"cell_type": "code",
			"source": "# The last 3 columns are dollar amounts, let's parse them into Decimal numbers for calculations\nlast_3cols = sdf.columns[-3:]\n# These transformations are just defined here, until we extract the data Spark won't do the work (lazy execution)\nfor col_name in last_3cols:\n    # Note: normally for monies it's better to use decimal but pandas doesn't support it\n    sdf = sdf.withColumn(col_name, regexp_replace(sdf[col_name], '\\$', '').cast('double'))\n\n# The zip code is not really a number\nsdf = sdf.withColumn('Provider Zip Code', sdf['Provider Zip Code'].cast('string'))",
			"metadata": {},
			"execution_count": null,
			"outputs": [],
			"id": "473bf9ac"
		},
		{
			"cell_type": "code",
			"source": "# Check the parsing is working fine\nsdf.show(n=10)",
			"metadata": {
				"trusted": true,
				"tags": []
			},
			"execution_count": 4,
			"outputs": [
				{
					"name": "stdout",
					"text": "+------+--------------------+--------------------+--------------+----------+-------------+-------------+-----------+-------------+------------------+----------------+---------------+\n|bookID|               title|             authors|average_rating|      isbn|       isbn13|language_code|  num_pages|ratings_count|text_reviews_count|publication_date|      publisher|\n+------+--------------------+--------------------+--------------+----------+-------------+-------------+-----------+-------------+------------------+----------------+---------------+\n|     1|Harry Potter and ...|J.K. Rowling/Mary...|          4.57|0439785960|9780439785969|          eng|        652|      2095690|             27591|       9/16/2006|Scholastic Inc.|\n|     2|Harry Potter and ...|J.K. Rowling/Mary...|          4.49|0439358078|9780439358071|          eng|        870|      2153167|             29221|        9/1/2004|Scholastic Inc.|\n|     4|Harry Potter and ...|        J.K. Rowling|          4.42|0439554896|9780439554893|          eng|        352|         6333|               244|       11/1/2003|     Scholastic|\n|     5|Harry Potter and ...|J.K. Rowling/Mary...|          4.56|043965548X|9780439655484|          eng|        435|      2339585|             36325|        5/1/2004|Scholastic Inc.|\n|     8|Harry Potter Boxe...|J.K. Rowling/Mary...|          4.78|0439682584|9780439682589|          eng|       2690|        41428|               164|       9/13/2004|     Scholastic|\n|     9|Unauthorized Harr...|W. Frederick Zimm...|          3.74|0976540606|9780976540601|        en-US|        152|           19|                 1|       4/26/2005|   Nimble Books|\n|    10|Harry Potter Coll...|        J.K. Rowling|          4.73|0439827604|9780439827607|          eng|       3342|        28242|               808|       9/12/2005|     Scholastic|\n|    12|The Ultimate Hitc...|       Douglas Adams|          4.38|0517226952|9780517226957|          eng|        815|         3628|               254|       11/1/2005| Gramercy Books|\n|    13|The Ultimate Hitc...|       Douglas Adams|          4.38|0345453743|9780345453747|          eng|        815|       249558|              4080|       4/30/2002|  Del Rey Books|\n|    14|The Hitchhiker's ...|       Douglas Adams|          4.22|1400052920|9781400052929|          eng|        215|         4930|               460|        8/3/2004|          Crown|\n+------+--------------------+--------------------+--------------+----------+-------------+-------------+-----------+-------------+------------------+----------------+---------------+\nonly showing top 10 rows\n",
					"output_type": "stream"
				}
			],
			"id": "68372c4f"
		},
		{
			"cell_type": "code",
			"source": "# Let's say you are only interested in California\nsdf_ca = sdf.filter('`Provider State` == \"CA\"')\n\n# Now that we have narrowed down the data, it's small enough that we can convert into a native pandas DataFrame\n# Unlike sdf which reads data distributed and when needed, this pdf uses the driver memory to store the data\n# so is faster for smaller data as long as it fits\npdf_ca = sdf_ca.toPandas()\n\n# The column names in the csv have extra spaces, in pandas we can trim that easily\npdf_ca.columns = [c.strip() for c in pdf_ca.columns]",
			"metadata": {},
			"execution_count": null,
			"outputs": [],
			"id": "150b2e81"
		},
		{
			"cell_type": "code",
			"source": "# Check the pandas schema\npdf_ca.dtypes",
			"metadata": {},
			"execution_count": null,
			"outputs": [],
			"id": "4d69ff44"
		},
		{
			"cell_type": "code",
			"source": "# Explore the statistics of the numeric columns\nimport pandas as pd\nimport numpy as np\npd.set_option('display.max_columns', 5)\npd.set_option('max_colwidth', 30)\npdf_ca.describe()",
			"metadata": {},
			"execution_count": null,
			"outputs": [],
			"id": "42882f97"
		},
		{
			"cell_type": "code",
			"source": "# Plot a histogram on the notebook directly from pandas\nimport matplotlib.pyplot as plt\nplt.figure()\nplt.title(\"Histogram of average Medicare payments\")\nplt.xlabel(\"Average payment in dollars\")\nhistogram = pdf_ca['Average Medicare Payments'].plot.hist(bins=12, alpha=0.5)\n%matplot plt",
			"metadata": {},
			"execution_count": null,
			"outputs": [],
			"id": "d0310bfc"
		},
		{
			"cell_type": "markdown",
			"source": "If you have more experience with the pandas APIs would rather use that instead of Spark DataFrame  \nBut notice that while we use native pandas, only the driver was doing work and the rest of the cluster is not used   \nThat's why we set the minimum size: *%number_of_workers 2*  \n\nOn Glue 4.0, you can get both distributed computed and the pandas syntax by using the \"pandas on Spark\" API, it's not yet 100% compatible but should work for most cases",
			"metadata": {},
			"id": "fcb425ef"
		},
		{
			"cell_type": "code",
			"source": "# The following cells will only work on Glue 4.0\n# psdf is a pandas on Spark DataFrame, uses the pandas API but the data and processing is distributed\n# this means it has higher latency but also can scale beyond a single node to handler larger data\npsdf = sdf.pandas_api()\npsdf.columns = [c.strip() for c in psdf.columns]\n# Statistics on the full dataset\npsdf.describe()",
			"metadata": {
				"trusted": true,
				"tags": []
			},
			"execution_count": 5,
			"outputs": [
				{
					"name": "stdout",
					"text": "             bookID  ratings_count  text_reviews_count\ncount  11127.000000   1.112700e+04        11127.000000\nmean   21310.938887   1.793649e+04          541.864474\nstd    13093.358023   1.124794e+05         2576.174610\nmin        1.000000   0.000000e+00            0.000000\n25%    10270.000000   1.040000e+02            9.000000\n50%    20264.000000   7.440000e+02           46.000000\n75%    32104.000000   4.991000e+03          237.000000\nmax    45641.000000   4.597666e+06        94265.000000\n",
					"output_type": "stream"
				}
			],
			"id": "a74e182e"
		},
		{
			"cell_type": "code",
			"source": "# Operate the data in a distributed way but using pandas syntax\nrelevant_psdf = psdf[(psdf['Total Discharges'] > 100) & (psdf['Average Medicare Payments'] > 10000)]\nrelevant_psdf.groupby([\"Provider State\", \"Provider Id\"])[\"Average Medicare Payments\"].max()",
			"metadata": {
				"trusted": true,
				"tags": []
			},
			"execution_count": 6,
			"outputs": [
				{
					"name": "stdout",
					"text": "KeyError: 'Total Discharges'\n",
					"output_type": "stream"
				}
			],
			"id": "fc32263a"
		},
		{
			"cell_type": "markdown",
			"source": "Note that in the previous cell the output is not equivalent than the same on native pandas, which displays the results grouped by the first column.   \nAlso running a sort before the groupby wouldn't work the same way, in this case the data is distributed so it's unsorted again when doing the groupby. ",
			"metadata": {},
			"id": "78801bf9"
		},
		{
			"cell_type": "code",
			"source": "# Convert back to Spark DataFrame if you want leverage the data saving features (for instance creating a catalog table)\n# https://spark.apache.org/docs/latest/api/python/reference/pyspark.sql/api/pyspark.sql.DataFrameWriter.html\nrelevant_sdf = psdf.to_spark()\nrelevant_sdf.show()\n\n# Or go a step further and convert to DynamicFrame to use its sinks and features\n# https://docs.aws.amazon.com/glue/latest/dg/aws-glue-api-crawler-pyspark-extensions-dynamic-frame-writer.html\nrelevant_dynf = DynamicFrame.fromDF(relevant_sdf, glueContext, \"\")",
			"metadata": {
				"trusted": true,
				"tags": []
			},
			"execution_count": 8,
			"outputs": [
				{
					"name": "stdout",
					"text": "+------+--------------------+--------------------+--------------+----------+-------------+-------------+---------+-------------+------------------+----------------+--------------------+\n|bookID|               title|             authors|average_rating|      isbn|       isbn13|language_code|num_pages|ratings_count|text_reviews_count|publication_date|           publisher|\n+------+--------------------+--------------------+--------------+----------+-------------+-------------+---------+-------------+------------------+----------------+--------------------+\n|     1|Harry Potter and ...|J.K. Rowling/Mary...|          4.57|0439785960|9780439785969|          eng|      652|      2095690|             27591|       9/16/2006|     Scholastic Inc.|\n|     2|Harry Potter and ...|J.K. Rowling/Mary...|          4.49|0439358078|9780439358071|          eng|      870|      2153167|             29221|        9/1/2004|     Scholastic Inc.|\n|     4|Harry Potter and ...|        J.K. Rowling|          4.42|0439554896|9780439554893|          eng|      352|         6333|               244|       11/1/2003|          Scholastic|\n|     5|Harry Potter and ...|J.K. Rowling/Mary...|          4.56|043965548X|9780439655484|          eng|      435|      2339585|             36325|        5/1/2004|     Scholastic Inc.|\n|     8|Harry Potter Boxe...|J.K. Rowling/Mary...|          4.78|0439682584|9780439682589|          eng|     2690|        41428|               164|       9/13/2004|          Scholastic|\n|     9|Unauthorized Harr...|W. Frederick Zimm...|          3.74|0976540606|9780976540601|        en-US|      152|           19|                 1|       4/26/2005|        Nimble Books|\n|    10|Harry Potter Coll...|        J.K. Rowling|          4.73|0439827604|9780439827607|          eng|     3342|        28242|               808|       9/12/2005|          Scholastic|\n|    12|The Ultimate Hitc...|       Douglas Adams|          4.38|0517226952|9780517226957|          eng|      815|         3628|               254|       11/1/2005|      Gramercy Books|\n|    13|The Ultimate Hitc...|       Douglas Adams|          4.38|0345453743|9780345453747|          eng|      815|       249558|              4080|       4/30/2002|       Del Rey Books|\n|    14|The Hitchhiker's ...|       Douglas Adams|          4.22|1400052920|9781400052929|          eng|      215|         4930|               460|        8/3/2004|               Crown|\n|    16|The Hitchhiker's ...|Douglas Adams/Ste...|          4.22|0739322206|9780739322208|          eng|        6|         1266|               253|       3/23/2005|  Random House Audio|\n|    18|The Ultimate Hitc...|       Douglas Adams|          4.38|0517149257|9780517149256|          eng|      815|         2877|               195|       1/17/1996|         Wings Books|\n|    21|A Short History o...|         Bill Bryson|          4.21|076790818X|9780767908184|          eng|      544|       248558|              9396|       9/14/2004|      Broadway Books|\n|    22|Bill Bryson's Afr...|         Bill Bryson|          3.44|0767915062|9780767915069|          eng|       55|         7270|               499|       12/3/2002|      Broadway Books|\n|    23|Bryson's Dictiona...|         Bill Bryson|          3.87|0767910435|9780767910439|          eng|      256|         2088|               131|       9/14/2004|      Broadway Books|\n|    24|In a Sunburned Co...|         Bill Bryson|          4.07|0767903862|9780767903868|          eng|      335|        72451|              4245|       5/15/2001|      Broadway Books|\n|    25|I'm a Stranger He...|         Bill Bryson|          3.90|076790382X|9780767903820|          eng|      304|        49240|              2211|       6/28/2000|      Broadway Books|\n|    26|The Lost Continen...|         Bill Bryson|          3.83|0060920084|9780060920081|          eng|      299|        45712|              2257|       8/28/1990|William Morrow Pa...|\n|    27|Neither Here nor ...|         Bill Bryson|          3.86|0380713802|9780380713806|          eng|      254|        48701|              2238|       3/28/1993|William Morrow Pa...|\n|    28|Notes from a Smal...|         Bill Bryson|          3.91|0380727501|9780380727506|          eng|      324|        80609|              3301|       5/28/1997|William Morrow Pa...|\n+------+--------------------+--------------------+--------------+----------+-------------+-------------+---------+-------------+------------------+----------------+--------------------+\nonly showing top 20 rows\n\n/opt/amazon/spark/python/lib/pyspark.zip/pyspark/pandas/utils.py:975: PandasAPIOnSparkAdviceWarning: If `index_col` is not specified for `to_spark`, the existing index is lost when converting to Spark DataFrame.\n  warnings.warn(message, PandasAPIOnSparkAdviceWarning)\n",
					"output_type": "stream"
				}
			],
			"id": "a264ce60"
		},
		{
			"cell_type": "code",
			"source": "",
			"metadata": {},
			"execution_count": null,
			"outputs": [],
			"id": "e419a4b3-9220-43fa-9c43-a01910bab3f1"
		}
	]
}