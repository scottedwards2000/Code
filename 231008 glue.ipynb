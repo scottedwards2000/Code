{
 "cells": [
  {
   "cell_type": "code",
   "execution_count": 11,
   "metadata": {
    "vscode": {
     "languageId": "python"
    }
   },
   "outputs": [
    {
     "name": "stdout",
     "output_type": "stream",
     "text": [
      "Welcome to the Glue Interactive Sessions Kernel\n",
      "For more information on available magic commands, please type %help in any new cell.\n",
      "\n",
      "Please view our Getting Started page to access the most up-to-date information on the Interactive Sessions kernel: https://docs.aws.amazon.com/glue/latest/dg/interactive-sessions.html\n"
     ]
    },
    {
     "name": "stdout",
     "output_type": "stream",
     "text": [
      "It looks like there is a newer version of the kernel available. The latest version is 1.0.2 and you have 1.0.0 installed.\n",
      "Please run `pip install --upgrade aws-glue-sessions` to upgrade your kernel\n",
      "Current iam_role is None\n",
      "iam_role has been set to arn:aws:iam::620109146561:role/GluNotebook.\n"
     ]
    }
   ],
   "source": [
    "%iam_role arn:aws:iam::620109146561:role/GluNotebook"
   ]
  },
  {
   "cell_type": "code",
   "execution_count": 13,
   "metadata": {
    "vscode": {
     "languageId": "python"
    }
   },
   "outputs": [
    {
     "name": "stdout",
     "output_type": "stream",
     "text": [
      "Previous region: us-east-1\n",
      "Setting new region to: us-east-1\n",
      "Region is set to: us-east-1\n"
     ]
    }
   ],
   "source": [
    "%region us-east-1"
   ]
  },
  {
   "cell_type": "code",
   "execution_count": 15,
   "metadata": {
    "vscode": {
     "languageId": "python"
    }
   },
   "outputs": [],
   "source": [
    "%session_type glue_ray"
   ]
  },
  {
   "cell_type": "code",
   "execution_count": 17,
   "metadata": {
    "vscode": {
     "languageId": "python"
    }
   },
   "outputs": [
    {
     "name": "stdout",
     "output_type": "stream",
     "text": [
      "Additional python modules to be included:\n",
      "modin\n",
      "awswrangler\n",
      "tqdm\n",
      "IPython\n",
      "tabulate\n"
     ]
    }
   ],
   "source": [
    "%additional_python_modules modin, awswrangler, tqdm, IPython, tabulate"
   ]
  },
  {
   "cell_type": "code",
   "execution_count": 19,
   "metadata": {
    "vscode": {
     "languageId": "python"
    }
   },
   "outputs": [
    {
     "name": "stdout",
     "output_type": "stream",
     "text": [
      "Setting Glue version to: 4.0\n"
     ]
    }
   ],
   "source": [
    "%glue_version 4.0"
   ]
  },
  {
   "cell_type": "code",
   "execution_count": 21,
   "metadata": {
    "vscode": {
     "languageId": "python"
    }
   },
   "outputs": [
    {
     "data": {
      "text/markdown": [
       "\n",
       "# Available Magic Commands\n",
       "\n",
       "## Sessions Magic\n",
       "\n",
       "----\n",
       "    %help                             Return a list of descriptions and input types for all magic commands. \n",
       "    %profile            String        Specify a profile in your aws configuration to use as the credentials provider.\n",
       "    %region             String        Specify the AWS region in which to initialize a session. \n",
       "                                      Default from ~/.aws/config on Linux or macOS, \n",
       "                                      or C:\\Users\\ USERNAME \\.aws\\config\" on Windows.\n",
       "    %idle_timeout       Int           The number of minutes of inactivity after which a session will timeout. \n",
       "                                      Default: 2880 minutes (48 hours).\n",
       "    %session_id_prefix  String        Define a String that will precede all session IDs in the format \n",
       "                                      [session_id_prefix]-[session_id]. If a session ID is not provided,\n",
       "                                      a random UUID will be generated.\n",
       "    %status                           Returns the status of the current Glue session including its duration, \n",
       "                                      configuration and executing user / role.\n",
       "    %session_id                       Returns the session ID for the running session. \n",
       "    %list_sessions                    Lists all currently running sessions by ID.\n",
       "    %stop_session                     Stops the current session.\n",
       "    %glue_version       String        The version of Glue to be used by this session. \n",
       "                                      Currently, the only valid options are 2.0, 3.0 and 4.0. \n",
       "                                      Default: 2.0.\n",
       "----\n",
       "\n",
       "## Selecting Session Types\n",
       "\n",
       "----\n",
       "    %streaming          String        Sets the session type to Glue Streaming.\n",
       "    %etl                String        Sets the session type to Glue ETL.\n",
       "    %glue_ray           String        Sets the session type to Glue Ray.\n",
       "    %session_type       String        Specify a session_type to be used. Supported values: streaming, etl and glue_ray. \n",
       "----\n",
       "\n",
       "## Glue Config Magic \n",
       "*(common across all session types)*\n",
       "\n",
       "----\n",
       "\n",
       "    %%configure         Dictionary    A json-formatted dictionary consisting of all configuration parameters for \n",
       "                                      a session. Each parameter can be specified here or through individual magics.\n",
       "    %iam_role           String        Specify an IAM role ARN to execute your session with.\n",
       "                                      Default from ~/.aws/config on Linux or macOS, \n",
       "                                      or C:\\Users\\%USERNAME%\\.aws\\config` on Windows.\n",
       "    %number_of_workers  int           The number of workers of a defined worker_type that are allocated \n",
       "                                      when a session runs.\n",
       "                                      Default: 5.\n",
       "    %additional_python_modules  List  Comma separated list of additional Python modules to include in your cluster \n",
       "                                      (can be from Pypi or S3).\n",
       "    %%tags        Dictionary          Specify a json-formatted dictionary consisting of tags to use in the session.\n",
       "    \n",
       "    %%assume_role Dictionary, String  Specify a json-formatted dictionary or an IAM role ARN string to create a session \n",
       "                                      for cross account access.\n",
       "                                      E.g. {valid arn}\n",
       "                                      %%assume_role \n",
       "                                      'arn:aws:iam::XXXXXXXXXXXX:role/AWSGlueServiceRole' \n",
       "                                      E.g. {credentials}\n",
       "                                      %%assume_role\n",
       "                                      {\n",
       "                                            \"aws_access_key_id\" : \"XXXXXXXXXXXX\",\n",
       "                                            \"aws_secret_access_key\" : \"XXXXXXXXXXXX\",\n",
       "                                            \"aws_session_token\" : \"XXXXXXXXXXXX\"\n",
       "                                       }\n",
       "----\n",
       "\n",
       "                                      \n",
       "## Magic for Spark Sessions (ETL & Streaming)\n",
       "\n",
       "----\n",
       "    %worker_type        String        Set the type of instances the session will use as workers. \n",
       "    %connections        List          Specify a comma separated list of connections to use in the session.\n",
       "    %extra_py_files     List          Comma separated list of additional Python files From S3.\n",
       "    %extra_jars         List          Comma separated list of additional Jars to include in the cluster.\n",
       "    %spark_conf         String        Specify custom spark configurations for your session. \n",
       "                                      E.g. %spark_conf spark.serializer=org.apache.spark.serializer.KryoSerializer\n",
       "----\n",
       "                                      \n",
       "## Magic for Ray Session\n",
       "\n",
       "----\n",
       "    %min_workers        Int           The minimum number of workers that are allocated to a Ray session. \n",
       "                                      Default: 1.\n",
       "    %object_memory_head Int           The percentage of free memory on the instance head node after a warm start. \n",
       "                                      Minimum: 0. Maximum: 100.\n",
       "    %object_memory_worker Int         The percentage of free memory on the instance worker nodes after a warm start. \n",
       "                                      Minimum: 0. Maximum: 100.\n",
       "----\n",
       "\n",
       "## Action Magic\n",
       "\n",
       "----\n",
       "\n",
       "    %%sql               String        Run SQL code. All lines after the initial %%sql magic will be passed\n",
       "                                      as part of the SQL code.  \n",
       "----\n",
       "\n"
      ]
     },
     "metadata": {},
     "output_type": "display_data"
    }
   ],
   "source": [
    "%help"
   ]
  },
  {
   "cell_type": "code",
   "execution_count": 24,
   "metadata": {
    "vscode": {
     "languageId": "python"
    }
   },
   "outputs": [
    {
     "name": "stdout",
     "output_type": "stream",
     "text": [
      "Current idle_timeout is None minutes.\n",
      "idle_timeout has been set to 15 minutes.\n",
      "Previous number of workers: None\n",
      "Setting new number of workers to: 5\n"
     ]
    }
   ],
   "source": [
    "%idle_timeout 15\n",
    "%number_of_workers 5"
   ]
  },
  {
   "cell_type": "code",
   "execution_count": 1,
   "metadata": {
    "vscode": {
     "languageId": "python"
    }
   },
   "outputs": [
    {
     "name": "stdout",
     "output_type": "stream",
     "text": [
      "Trying to create a Glue session for the kernel.\n",
      "Session Type: glue_ray\n",
      "Worker Type: Z.2X\n",
      "Number of Workers: 5\n",
      "Session ID: e7d661fc-ae29-4da5-82ca-0157b6a749c2\n",
      "Applying the following default arguments:\n",
      "--glue_kernel_version 1.0.0\n",
      "--enable-glue-datacatalog true\n",
      "--additional-python-modules modin,awswrangler,tqdm,IPython,tabulate\n",
      "Waiting for session e7d661fc-ae29-4da5-82ca-0157b6a749c2 to get into ready status...\n",
      "Session e7d661fc-ae29-4da5-82ca-0157b6a749c2 has been created.\n",
      "ssssxs\n"
     ]
    }
   ],
   "source": [
    "print('ssssxs')"
   ]
  },
  {
   "cell_type": "code",
   "execution_count": 26,
   "metadata": {
    "vscode": {
     "languageId": "python"
    }
   },
   "outputs": [
    {
     "name": "stdout",
     "output_type": "stream",
     "text": [
      "The first 1 sessions are:\n",
      "+--------------------------------------+----------+----------------------------------+\n",
      "| SessionId                            | Status   | CreatedOn                        |\n",
      "+======================================+==========+==================================+\n",
      "| e7d661fc-ae29-4da5-82ca-0157b6a749c2 | READY    | 2023-10-17 16:34:15.514000-07:00 |\n",
      "+--------------------------------------+----------+----------------------------------+\n"
     ]
    }
   ],
   "source": [
    "%list_sessions"
   ]
  },
  {
   "cell_type": "code",
   "execution_count": 3,
   "metadata": {
    "vscode": {
     "languageId": "python"
    }
   },
   "outputs": [
    {
     "name": "stdout",
     "output_type": "stream",
     "text": [
      "/opt/amazon/workload-runtime/Ray2.4/python3.9/bin/python3.9\n"
     ]
    }
   ],
   "source": [
    "print (sys.executable)"
   ]
  },
  {
   "cell_type": "code",
   "execution_count": 4,
   "metadata": {
    "vscode": {
     "languageId": "python"
    }
   },
   "outputs": [],
   "source": [
    "import awswrangler as wr"
   ]
  },
  {
   "cell_type": "code",
   "execution_count": 5,
   "metadata": {
    "vscode": {
     "languageId": "python"
    }
   },
   "outputs": [],
   "source": [
    "import modin.pandas as pd"
   ]
  },
  {
   "cell_type": "code",
   "execution_count": 27,
   "metadata": {
    "vscode": {
     "languageId": "python"
    }
   },
   "outputs": [],
   "source": [
    "# import numpy as np"
   ]
  },
  {
   "cell_type": "code",
   "execution_count": 6,
   "metadata": {
    "vscode": {
     "languageId": "python"
    }
   },
   "outputs": [],
   "source": [
    "import os, modin.config as cfg"
   ]
  },
  {
   "cell_type": "code",
   "execution_count": 28,
   "metadata": {
    "vscode": {
     "languageId": "python"
    }
   },
   "outputs": [],
   "source": [
    "#from IPython.display import display"
   ]
  },
  {
   "cell_type": "code",
   "execution_count": 7,
   "metadata": {
    "vscode": {
     "languageId": "python"
    }
   },
   "outputs": [],
   "source": [
    "rayBucket = 'glue-ray-data-620109146561-us-east-1'"
   ]
  },
  {
   "cell_type": "code",
   "execution_count": 8,
   "metadata": {
    "vscode": {
     "languageId": "python"
    }
   },
   "outputs": [],
   "source": [
    "athenaWrkgrp = 'GlueRayWorkGroup'"
   ]
  },
  {
   "cell_type": "code",
   "execution_count": 29,
   "metadata": {
    "vscode": {
     "languageId": "python"
    }
   },
   "outputs": [],
   "source": [
    "#wr.catalog.create_database(name='books', exist_ok=True)"
   ]
  },
  {
   "cell_type": "code",
   "execution_count": 9,
   "metadata": {
    "vscode": {
     "languageId": "python"
    }
   },
   "outputs": [
    {
     "name": "stdout",
     "output_type": "stream",
     "text": [
      "'Ray'\n"
     ]
    }
   ],
   "source": [
    "cfg.Engine.get()"
   ]
  },
  {
   "cell_type": "code",
   "execution_count": 11,
   "metadata": {
    "vscode": {
     "languageId": "python"
    }
   },
   "outputs": [],
   "source": [
    "import tqdm"
   ]
  },
  {
   "cell_type": "code",
   "execution_count": 15,
   "metadata": {
    "vscode": {
     "languageId": "python"
    }
   },
   "outputs": [],
   "source": [
    "pd.set_option('display.max_columns', None) "
   ]
  },
  {
   "cell_type": "code",
   "execution_count": 30,
   "metadata": {
    "vscode": {
     "languageId": "python"
    }
   },
   "outputs": [],
   "source": [
    "#pd.set_option(\"display.html.table_schema\", True)"
   ]
  },
  {
   "cell_type": "code",
   "execution_count": 19,
   "metadata": {
    "vscode": {
     "languageId": "python"
    }
   },
   "outputs": [],
   "source": [
    "from tabulate import tabulate #lets me call tabluate function directly instead of tb.tabulate() if I used \"import tabluate as tb\""
   ]
  },
  {
   "cell_type": "code",
   "execution_count": 22,
   "metadata": {
    "vscode": {
     "languageId": "python"
    }
   },
   "outputs": [
    {
     "name": "stderr",
     "output_type": "stream",
     "text": [
      "2023-10-17 23:35:47,820\tINFO worker.py:1432 -- Connecting to existing Ray cluster at address: 2600:1f10:4158:8716:5e0b:27a8:9280:1547:6379...\n",
      "2023-10-17 23:35:47,828\tINFO worker.py:1616 -- Connected to Ray cluster. View the dashboard at \u001b[1m\u001b[32m127.0.0.1:8265 \u001b[39m\u001b[22m\n",
      "2023-10-17 23:35:49,895\tWARNING read_api.py:358 -- ⚠️  The number of blocks in this dataset (1) limits its parallelism to 1 concurrent tasks. This is much less than the number of available CPU slots in the cluster. Use `.repartition(n)` to increase the number of dataset blocks.\n",
      "2023-10-17 23:35:49,915\tWARNING tqdm_ray.py:258 -- tqdm is not installed. Progress bars will be disabled.\n"
     ]
    }
   ],
   "source": [
    "def parse_dates(x):\n",
    "    try:\n",
    "        return pd.to_datetime(x)\n",
    "    except ValueError:\n",
    "        return pd.NA#np.nan\n",
    "\n",
    "\n",
    "df = wr.s3.read_csv(\n",
    "        f's3://{rayBucket}/books.csv'\n",
    "        , on_bad_lines='skip'\n",
    "        , dtype={'bookID': str, 'isbn': str, 'isbn13': str}\n",
    "        , parse_dates=['publication_date']\n",
    "        , date_parser=parse_dates\n",
    ")"
   ]
  },
  {
   "cell_type": "code",
   "execution_count": 26,
   "metadata": {
    "vscode": {
     "languageId": "python"
    }
   },
   "outputs": [
    {
     "name": "stdout",
     "output_type": "stream",
     "text": [
      "  bookID                                              title  \\\n",
      "0      1  Harry Potter and the Half-Blood Prince (Harry ...   \n",
      "1      2  Harry Potter and the Order of the Phoenix (Har...   \n",
      "\n",
      "                      authors  average_rating        isbn         isbn13  \\\n",
      "0  J.K. Rowling/Mary GrandPré            4.57  0439785960  9780439785969   \n",
      "1  J.K. Rowling/Mary GrandPré            4.49  0439358078  9780439358071   \n",
      "\n",
      "  language_code    num_pages  ratings_count  text_reviews_count  \\\n",
      "0           eng          652        2095690               27591   \n",
      "1           eng          870        2153167               29221   \n",
      "\n",
      "  publication_date        publisher  \n",
      "0       2006-09-16  Scholastic Inc.  \n",
      "1       2004-09-01  Scholastic Inc.\n"
     ]
    }
   ],
   "source": [
    "df.iloc[0:2]"
   ]
  },
  {
   "cell_type": "code",
   "execution_count": 34,
   "metadata": {
    "vscode": {
     "languageId": "python"
    }
   },
   "outputs": [],
   "source": [
    "def tb(x):\n",
    "    print(tabulate(x, headers='keys', tablefmt='psql'))"
   ]
  },
  {
   "cell_type": "code",
   "execution_count": 39,
   "metadata": {
    "vscode": {
     "languageId": "python"
    }
   },
   "outputs": [
    {
     "name": "stdout",
     "output_type": "stream",
     "text": [
      "+----+----------+--------------------------------------------------------------+----------------------------+------------------+------------+---------------+-----------------+---------------+-----------------+----------------------+---------------------+-----------------+\n",
      "|    |   bookID | title                                                        | authors                    |   average_rating |       isbn |        isbn13 | language_code   |     num_pages |   ratings_count |   text_reviews_count | publication_date    | publisher       |\n",
      "|----+----------+--------------------------------------------------------------+----------------------------+------------------+------------+---------------+-----------------+---------------+-----------------+----------------------+---------------------+-----------------|\n",
      "|  0 |        1 | Harry Potter and the Half-Blood Prince (Harry Potter  #6)    | J.K. Rowling/Mary GrandPré |             4.57 | 0439785960 | 9780439785969 | eng             |           652 |         2095690 |                27591 | 2006-09-16 00:00:00 | Scholastic Inc. |\n",
      "|  1 |        2 | Harry Potter and the Order of the Phoenix (Harry Potter  #5) | J.K. Rowling/Mary GrandPré |             4.49 | 0439358078 | 9780439358071 | eng             |           870 |         2153167 |                29221 | 2004-09-01 00:00:00 | Scholastic Inc. |\n",
      "+----+----------+--------------------------------------------------------------+----------------------------+------------------+------------+---------------+-----------------+---------------+-----------------+----------------------+---------------------+-----------------+\n"
     ]
    }
   ],
   "source": [
    "tb(df.iloc[0:2])"
   ]
  },
  {
   "cell_type": "code",
   "execution_count": 22,
   "metadata": {
    "vscode": {
     "languageId": "python"
    }
   },
   "outputs": [],
   "source": [
    "# try:\n",
    "#     df['publication_date'] = pd.to_datetime(df['publication_date']) \n",
    "# except ValueError as e:\n",
    "#     row_idx = re.search(r'at position (\\d+)', str(e)).group(1)\n",
    "#     row_idx = int(row_idx)\n",
    "#     print(df.iloc[row_idx])"
   ]
  },
  {
   "cell_type": "markdown",
   "metadata": {},
   "source": [
    "bookID                                                            31373\n",
    "title                 In Pursuit of the Proper Sinner (Inspector Lyn...\n",
    "authors                                               Elizabeth  George\n",
    "average_rating                                                      4.1\n",
    "isbn                                                         0553575104\n",
    "isbn13                                                    9780553575101\n",
    "language_code                                                       eng\n",
    "  num_pages                                                         718\n",
    "ratings_count                                                     10608\n",
    "text_reviews_count                                                  295\n",
    "publication_date                                             11/31/2000\n",
    "publisher                                                  Bantam Books\n",
    "Name: 8177, dtype: object\n"
   ]
  },
  {
   "cell_type": "code",
   "execution_count": 51,
   "metadata": {
    "vscode": {
     "languageId": "python"
    }
   },
   "outputs": [
    {
     "name": "stdout",
     "output_type": "stream",
     "text": [
      "+------+----------+---------------------------------------------------------+-------------------+------------------+------------+---------------+-----------------+---------------+-----------------+----------------------+--------------------+--------------+\n",
      "|      |   bookID | title                                                   | authors           |   average_rating |       isbn |        isbn13 | language_code   |     num_pages |   ratings_count |   text_reviews_count | publication_date   | publisher    |\n",
      "|------+----------+---------------------------------------------------------+-------------------+------------------+------------+---------------+-----------------+---------------+-----------------+----------------------+--------------------+--------------|\n",
      "| 8177 |    31373 | In Pursuit of the Proper Sinner (Inspector Lynley  #10) | Elizabeth  George |              4.1 | 0553575104 | 9780553575101 | eng             |           718 |           10608 |                  295 | NaT                | Bantam Books |\n",
      "+------+----------+---------------------------------------------------------+-------------------+------------------+------------+---------------+-----------------+---------------+-----------------+----------------------+--------------------+--------------+\n"
     ]
    }
   ],
   "source": [
    "tb(df[df['bookID']=='31373'])"
   ]
  },
  {
   "cell_type": "code",
   "execution_count": 52,
   "metadata": {
    "vscode": {
     "languageId": "python"
    }
   },
   "outputs": [
    {
     "name": "stdout",
     "output_type": "stream",
     "text": [
      "<class 'modin.pandas.dataframe.DataFrame'>\n"
     ]
    }
   ],
   "source": [
    "type(df)"
   ]
  },
  {
   "cell_type": "code",
   "execution_count": 53,
   "metadata": {
    "vscode": {
     "languageId": "python"
    }
   },
   "outputs": [
    {
     "name": "stdout",
     "output_type": "stream",
     "text": [
      "+----+----------+--------------------------------------------------------------+----------------------------+------------------+------------+---------------+-----------------+---------------+-----------------+----------------------+---------------------+-----------------+\n",
      "|    |   bookID | title                                                        | authors                    |   average_rating | isbn       |        isbn13 | language_code   |     num_pages |   ratings_count |   text_reviews_count | publication_date    | publisher       |\n",
      "|----+----------+--------------------------------------------------------------+----------------------------+------------------+------------+---------------+-----------------+---------------+-----------------+----------------------+---------------------+-----------------|\n",
      "|  0 |        1 | Harry Potter and the Half-Blood Prince (Harry Potter  #6)    | J.K. Rowling/Mary GrandPré |             4.57 | 0439785960 | 9780439785969 | eng             |           652 |         2095690 |                27591 | 2006-09-16 00:00:00 | Scholastic Inc. |\n",
      "|  1 |        2 | Harry Potter and the Order of the Phoenix (Harry Potter  #5) | J.K. Rowling/Mary GrandPré |             4.49 | 0439358078 | 9780439358071 | eng             |           870 |         2153167 |                29221 | 2004-09-01 00:00:00 | Scholastic Inc. |\n",
      "|  2 |        4 | Harry Potter and the Chamber of Secrets (Harry Potter  #2)   | J.K. Rowling               |             4.42 | 0439554896 | 9780439554893 | eng             |           352 |            6333 |                  244 | 2003-11-01 00:00:00 | Scholastic      |\n",
      "|  3 |        5 | Harry Potter and the Prisoner of Azkaban (Harry Potter  #3)  | J.K. Rowling/Mary GrandPré |             4.56 | 043965548X | 9780439655484 | eng             |           435 |         2339585 |                36325 | 2004-05-01 00:00:00 | Scholastic Inc. |\n",
      "|  4 |        8 | Harry Potter Boxed Set  Books 1-5 (Harry Potter  #1-5)       | J.K. Rowling/Mary GrandPré |             4.78 | 0439682584 | 9780439682589 | eng             |          2690 |           41428 |                  164 | 2004-09-13 00:00:00 | Scholastic      |\n",
      "+----+----------+--------------------------------------------------------------+----------------------------+------------------+------------+---------------+-----------------+---------------+-----------------+----------------------+---------------------+-----------------+\n"
     ]
    }
   ],
   "source": [
    "tb(df.head())"
   ]
  },
  {
   "cell_type": "code",
   "execution_count": 54,
   "metadata": {
    "vscode": {
     "languageId": "python"
    }
   },
   "outputs": [
    {
     "name": "stdout",
     "output_type": "stream",
     "text": [
      "<class 'modin.pandas.dataframe.DataFrame'>\n",
      "RangeIndex: 11123 entries, 0 to 11122\n",
      "Data columns (total 12 columns):\n",
      " #   Column              Non-Null Count  Dtype         \n",
      "---  ------              --------------  -----         \n",
      " 0   bookID              11123 non-null  object        \n",
      " 1   title               11123 non-null  object        \n",
      " 2   authors             11123 non-null  object        \n",
      " 3   average_rating      11123 non-null  float64       \n",
      " 4   isbn                11123 non-null  object        \n",
      " 5   isbn13              11123 non-null  object        \n",
      " 6   language_code       11123 non-null  object        \n",
      " 7     num_pages         11123 non-null  int64         \n",
      " 8   ratings_count       11123 non-null  int64         \n",
      " 9   text_reviews_count  11123 non-null  int64         \n",
      " 10  publication_date    11121 non-null  datetime64[ns]\n",
      " 11  publisher           11123 non-null  object        \n",
      "dtypes: datetime64[ns](1), float64(1), int64(3), object(7)\n",
      "memory usage: 1.0+ MB\n"
     ]
    }
   ],
   "source": [
    "df.info()"
   ]
  },
  {
   "cell_type": "code",
   "execution_count": 55,
   "metadata": {
    "vscode": {
     "languageId": "python"
    }
   },
   "outputs": [
    {
     "name": "stdout",
     "output_type": "stream",
     "text": [
      "bookID                        object\n",
      "title                         object\n",
      "authors                       object\n",
      "average_rating               float64\n",
      "isbn                          object\n",
      "isbn13                        object\n",
      "language_code                 object\n",
      "  num_pages                    int64\n",
      "ratings_count                  int64\n",
      "text_reviews_count             int64\n",
      "publication_date      datetime64[ns]\n",
      "publisher                     object\n",
      "dtype: object\n"
     ]
    }
   ],
   "source": [
    "df.dtypes"
   ]
  },
  {
   "cell_type": "code",
   "execution_count": 56,
   "metadata": {
    "vscode": {
     "languageId": "python"
    }
   },
   "outputs": [
    {
     "name": "stdout",
     "output_type": "stream",
     "text": [
      "+-------+------------------+---------------+------------------+----------------------+-------------------------------+\n",
      "|       |   average_rating |     num_pages |    ratings_count |   text_reviews_count | publication_date              |\n",
      "|-------+------------------+---------------+------------------+----------------------+-------------------------------|\n",
      "| count |     11123        |     11123     |  11123           |            11123     | 11121                         |\n",
      "| mean  |         3.93408  |       336.406 |  17942.8         |              542.048 | 2000-08-29 03:05:33.099541504 |\n",
      "| min   |         0        |         0     |      0           |                0     | 1900-01-01 00:00:00           |\n",
      "| 25%   |         3.77     |       192     |    104           |                9     | 1998-07-17 00:00:00           |\n",
      "| 50%   |         3.96     |       299     |    745           |               47     | 2003-03-01 00:00:00           |\n",
      "| 75%   |         4.14     |       416     |   5000.5         |              238     | 2005-10-01 00:00:00           |\n",
      "| max   |         5        |      6576     |      4.59767e+06 |            94265     | 2020-03-31 00:00:00           |\n",
      "| std   |         0.350485 |       241.153 | 112499           |             2576.62  | nan                           |\n",
      "+-------+------------------+---------------+------------------+----------------------+-------------------------------+\n"
     ]
    }
   ],
   "source": [
    "tb(df.describe())"
   ]
  },
  {
   "cell_type": "code",
   "execution_count": 58,
   "metadata": {
    "vscode": {
     "languageId": "python"
    }
   },
   "outputs": [
    {
     "name": "stdout",
     "output_type": "stream",
     "text": [
      "+-------+-------------------------------------------------------------+----------------------+-----------------+\n",
      "|       | title                                                       |   text_reviews_count |   ratings_count |\n",
      "|-------+-------------------------------------------------------------+----------------------+-----------------|\n",
      "| 10336 | Twilight (Twilight  #1)                                     |                94265 |         4597666 |\n",
      "|  5270 | The Book Thief                                              |                86881 |         1516367 |\n",
      "|  1069 | The Giver (The Giver  #1)                                   |                56604 |         1585589 |\n",
      "|   284 | The Alchemist                                               |                55843 |         1631221 |\n",
      "| 10700 | Water for Elephants                                         |                52759 |         1260027 |\n",
      "|  7309 | The Lightning Thief (Percy Jackson and the Olympians  #1)   |                47951 |         1766725 |\n",
      "|  5407 | Eat  Pray  Love                                             |                47620 |         1362264 |\n",
      "|  2060 | The Glass Castle                                            |                46176 |          808656 |\n",
      "|  1462 | The Catcher in the Rye                                      |                43499 |         2457092 |\n",
      "|     3 | Harry Potter and the Prisoner of Azkaban (Harry Potter  #3) |                36325 |         2339585 |\n",
      "+-------+-------------------------------------------------------------+----------------------+-----------------+\n"
     ]
    }
   ],
   "source": [
    "tb(\n",
    "    df[['title', 'text_reviews_count', 'ratings_count']]\n",
    "    .sort_values(by=['text_reviews_count'], ascending=False)\n",
    "    .iloc[0:10]\n",
    ")"
   ]
  },
  {
   "cell_type": "code",
   "execution_count": null,
   "metadata": {
    "vscode": {
     "languageId": "python"
    }
   },
   "outputs": [],
   "source": []
  }
 ],
 "metadata": {
  "kernelspec": {
   "display_name": "Glue PySpark",
   "language": "python",
   "name": "glue_pyspark"
  },
  "language_info": {
   "codemirror_mode": {
    "name": "python",
    "version": 3
   },
   "file_extension": ".py",
   "mimetype": "text/x-python",
   "name": "Python_Glue_Session",
   "pygments_lexer": "python3"
  }
 },
 "nbformat": 4,
 "nbformat_minor": 2
}
